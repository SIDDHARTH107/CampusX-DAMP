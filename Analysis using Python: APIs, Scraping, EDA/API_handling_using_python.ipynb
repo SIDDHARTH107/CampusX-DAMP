{
  "nbformat": 4,
  "nbformat_minor": 0,
  "metadata": {
    "colab": {
      "provenance": []
    },
    "kernelspec": {
      "name": "python3",
      "display_name": "Python 3"
    },
    "language_info": {
      "name": "python"
    }
  },
  "cells": [
    {
      "cell_type": "code",
      "execution_count": null,
      "metadata": {
        "id": "HaVpq5SqmJoZ"
      },
      "outputs": [],
      "source": [
        "import requests"
      ]
    },
    {
      "cell_type": "code",
      "source": [
        "url = \"https://api.freeapi.app/api/v1/public/randomusers/user/random\"\n",
        "\n",
        "response = requests.get(url)\n",
        "\n",
        "data = response.json()"
      ],
      "metadata": {
        "id": "cWFtBKd7oAaX"
      },
      "execution_count": null,
      "outputs": []
    },
    {
      "cell_type": "code",
      "source": [
        "len(data)"
      ],
      "metadata": {
        "colab": {
          "base_uri": "https://localhost:8080/"
        },
        "id": "XPAck_PSoSUZ",
        "outputId": "461a0be1-1718-45a7-82a5-0405a20888fb"
      },
      "execution_count": null,
      "outputs": [
        {
          "output_type": "execute_result",
          "data": {
            "text/plain": [
              "4"
            ]
          },
          "metadata": {},
          "execution_count": 3
        }
      ]
    },
    {
      "cell_type": "code",
      "source": [
        "data.keys()"
      ],
      "metadata": {
        "colab": {
          "base_uri": "https://localhost:8080/"
        },
        "id": "HmmmxaOqobEa",
        "outputId": "8aaef902-6733-483b-ba55-24335dd96fcd"
      },
      "execution_count": null,
      "outputs": [
        {
          "output_type": "execute_result",
          "data": {
            "text/plain": [
              "dict_keys(['statusCode', 'data', 'message', 'success'])"
            ]
          },
          "metadata": {},
          "execution_count": 4
        }
      ]
    },
    {
      "cell_type": "code",
      "source": [
        "user_data = data[\"data\"]\n",
        "\n",
        "user_data"
      ],
      "metadata": {
        "colab": {
          "base_uri": "https://localhost:8080/"
        },
        "id": "fQXw8irrohB4",
        "outputId": "c96c715e-8967-4057-92fa-1e26ce644e82"
      },
      "execution_count": null,
      "outputs": [
        {
          "output_type": "execute_result",
          "data": {
            "text/plain": [
              "{'gender': 'female',\n",
              " 'name': {'title': 'Ms', 'first': 'Ella', 'last': 'Torres'},\n",
              " 'location': {'street': {'number': 3624, 'name': 'Wheeler Ridge Dr'},\n",
              "  'city': 'Vancouver',\n",
              "  'state': 'Massachusetts',\n",
              "  'country': 'United States',\n",
              "  'postcode': 32616,\n",
              "  'coordinates': {'latitude': '33.2604', 'longitude': '65.7104'},\n",
              "  'timezone': {'offset': '+10:00',\n",
              "   'description': 'Eastern Australia, Guam, Vladivostok'}},\n",
              " 'email': 'ella.torres@example.com',\n",
              " 'login': {'uuid': '42a2e158-6bc7-47ee-8b45-4840366cce61',\n",
              "  'username': 'smallbird365',\n",
              "  'password': 'passwor1',\n",
              "  'salt': 'CRpVlFGR',\n",
              "  'md5': '6a4f3b341c024107beb3a2716d879ed9',\n",
              "  'sha1': 'ff8f260caee3ef378c913123a1c586e5ac00a1d0',\n",
              "  'sha256': 'c94f80db19595326b3bb3dfce16ac87d151dba836c8e00f8c74910912daaf95f'},\n",
              " 'dob': {'date': '1974-09-13T20:18:13.065Z', 'age': 48},\n",
              " 'registered': {'date': '2003-01-10T13:09:57.136Z', 'age': 20},\n",
              " 'phone': '(771) 721-6337',\n",
              " 'cell': '(328) 252-6805',\n",
              " 'id': 83,\n",
              " 'picture': {'large': 'https://randomuser.me/api/portraits/women/4.jpg',\n",
              "  'medium': 'https://randomuser.me/api/portraits/med/women/4.jpg',\n",
              "  'thumbnail': 'https://randomuser.me/api/portraits/thumb/women/4.jpg'},\n",
              " 'nat': 'US'}"
            ]
          },
          "metadata": {},
          "execution_count": 5
        }
      ]
    },
    {
      "cell_type": "markdown",
      "source": [
        "Requirements:\n",
        "1. Email_id\n",
        "2. gender\n",
        "3. country\n",
        "4. username\n",
        "5. full name - first_name and last_name"
      ],
      "metadata": {
        "id": "tf5r6th6o1Ug"
      }
    },
    {
      "cell_type": "code",
      "source": [
        "user_data.keys()"
      ],
      "metadata": {
        "colab": {
          "base_uri": "https://localhost:8080/"
        },
        "id": "0roHLZwIp5wu",
        "outputId": "92d4b9b6-e416-4206-ac67-deec93eb2241"
      },
      "execution_count": null,
      "outputs": [
        {
          "output_type": "execute_result",
          "data": {
            "text/plain": [
              "dict_keys(['gender', 'name', 'location', 'email', 'login', 'dob', 'registered', 'phone', 'cell', 'id', 'picture', 'nat'])"
            ]
          },
          "metadata": {},
          "execution_count": 6
        }
      ]
    },
    {
      "cell_type": "code",
      "source": [
        "data[\"success\"]"
      ],
      "metadata": {
        "colab": {
          "base_uri": "https://localhost:8080/"
        },
        "id": "W2oYXJYMrY6v",
        "outputId": "bd7cacf6-f398-46d8-d2d4-8033f33013c3"
      },
      "execution_count": null,
      "outputs": [
        {
          "output_type": "execute_result",
          "data": {
            "text/plain": [
              "True"
            ]
          },
          "metadata": {},
          "execution_count": 7
        }
      ]
    },
    {
      "cell_type": "code",
      "source": [
        "user_data[\"location\"].keys()"
      ],
      "metadata": {
        "colab": {
          "base_uri": "https://localhost:8080/"
        },
        "id": "Vn8IiaBzqM04",
        "outputId": "65aa3d56-6cbc-42cb-ba4c-86d0f92226ce"
      },
      "execution_count": null,
      "outputs": [
        {
          "output_type": "execute_result",
          "data": {
            "text/plain": [
              "dict_keys(['street', 'city', 'state', 'country', 'postcode', 'coordinates', 'timezone'])"
            ]
          },
          "metadata": {},
          "execution_count": 8
        }
      ]
    },
    {
      "cell_type": "code",
      "source": [
        "def get_user_data(data):\n",
        "    if data[\"success\"]:\n",
        "        # data dict of user\n",
        "        user_data = data[\"data\"]\n",
        "        # fields\n",
        "        email_id = user_data[\"email\"]\n",
        "        gender = user_data[\"gender\"]\n",
        "        country = user_data[\"location\"][\"country\"]\n",
        "        username = user_data[\"login\"][\"username\"]\n",
        "        name = user_data[\"name\"][\"first\"] + \" \" + user_data[\"name\"][\"last\"]\n",
        "\n",
        "        user_dict = {\n",
        "            \"email_id\": email_id,\n",
        "            \"gender\": gender,\n",
        "            \"country\": country,\n",
        "            \"username\": username,\n",
        "            \"name\": name\n",
        "        }\n",
        "        return user_dict\n",
        "\n",
        "    else:\n",
        "        raise Exception(\"User data not available\")"
      ],
      "metadata": {
        "id": "nyMi8dZgoySS"
      },
      "execution_count": null,
      "outputs": []
    },
    {
      "cell_type": "code",
      "source": [
        "get_user_data(data)"
      ],
      "metadata": {
        "colab": {
          "base_uri": "https://localhost:8080/"
        },
        "id": "gnX7ypzTq9P4",
        "outputId": "8445e5a1-5645-4469-a4da-1dcc209f3b48"
      },
      "execution_count": null,
      "outputs": [
        {
          "output_type": "execute_result",
          "data": {
            "text/plain": [
              "{'email_id': 'ella.torres@example.com',\n",
              " 'gender': 'female',\n",
              " 'country': 'United States',\n",
              " 'username': 'smallbird365',\n",
              " 'name': 'Ella Torres'}"
            ]
          },
          "metadata": {},
          "execution_count": 10
        }
      ]
    },
    {
      "cell_type": "code",
      "source": [
        "import pandas as pd"
      ],
      "metadata": {
        "id": "w8TDUopTrAk-"
      },
      "execution_count": null,
      "outputs": []
    },
    {
      "cell_type": "code",
      "source": [
        "url"
      ],
      "metadata": {
        "colab": {
          "base_uri": "https://localhost:8080/",
          "height": 35
        },
        "id": "o-_FZHzpu1n7",
        "outputId": "4db2a79d-1d47-4dd9-970a-79d0a9817650"
      },
      "execution_count": null,
      "outputs": [
        {
          "output_type": "execute_result",
          "data": {
            "text/plain": [
              "'https://api.freeapi.app/api/v1/public/randomusers/user/random'"
            ],
            "application/vnd.google.colaboratory.intrinsic+json": {
              "type": "string"
            }
          },
          "metadata": {},
          "execution_count": 12
        }
      ]
    },
    {
      "cell_type": "code",
      "source": [
        "url_test = \"https://api.freeapi.app/api/v1/publc/randomusers/user/random\""
      ],
      "metadata": {
        "id": "Y__6Mnzxu3Ks"
      },
      "execution_count": null,
      "outputs": []
    },
    {
      "cell_type": "code",
      "source": [
        "def hit_api(url, sample_size):\n",
        "    list_of_users = []\n",
        "    for i in range(sample_size):\n",
        "        try:\n",
        "            # get method\n",
        "            response = requests.get(url)\n",
        "\n",
        "            if response.status_code != 200:\n",
        "                print(\"Could not connect to the API\")\n",
        "                break\n",
        "\n",
        "            # json of complete data\n",
        "            data = response.json()\n",
        "            # user info\n",
        "            user_info = get_user_data(data)\n",
        "        except Exception:\n",
        "            continue\n",
        "        else:\n",
        "            # add user data to list\n",
        "            list_of_users.append(user_info)\n",
        "\n",
        "    print(\"The number of fetched rows are: \", len(list_of_users))\n",
        "\n",
        "    return list_of_users"
      ],
      "metadata": {
        "id": "A2-mA-dlsb4J"
      },
      "execution_count": null,
      "outputs": []
    },
    {
      "cell_type": "code",
      "source": [
        "df_users = hit_api(url, 30)"
      ],
      "metadata": {
        "id": "tYX7Brl-rsDy",
        "colab": {
          "base_uri": "https://localhost:8080/"
        },
        "outputId": "6f8ad79d-b255-4a01-93b1-4d9234b804dd"
      },
      "execution_count": null,
      "outputs": [
        {
          "output_type": "stream",
          "name": "stdout",
          "text": [
            "The number of fetched rows are:  30\n"
          ]
        }
      ]
    },
    {
      "cell_type": "code",
      "source": [
        "df = pd.DataFrame(df_users)"
      ],
      "metadata": {
        "id": "JMOf7rAYuVKp"
      },
      "execution_count": null,
      "outputs": []
    },
    {
      "cell_type": "code",
      "source": [
        "df.duplicated().sum()"
      ],
      "metadata": {
        "id": "Cig8_m_OwJde",
        "colab": {
          "base_uri": "https://localhost:8080/"
        },
        "outputId": "e0dad3f9-be24-4c53-d21d-913a57b8778f"
      },
      "execution_count": null,
      "outputs": [
        {
          "output_type": "execute_result",
          "data": {
            "text/plain": [
              "np.int64(1)"
            ]
          },
          "metadata": {},
          "execution_count": 18
        }
      ]
    },
    {
      "cell_type": "code",
      "source": [
        "df.loc[df.duplicated(keep=False),:]"
      ],
      "metadata": {
        "colab": {
          "base_uri": "https://localhost:8080/",
          "height": 112
        },
        "id": "v68atL2Gx141",
        "outputId": "5fa3a54d-d5c9-4158-9c79-1a9a5c435d93"
      },
      "execution_count": null,
      "outputs": [
        {
          "output_type": "execute_result",
          "data": {
            "text/plain": [
              "                      email_id  gender      country       username  \\\n",
              "13  georgia.cooper@example.com  female  New Zealand  angrypanda168   \n",
              "19  georgia.cooper@example.com  female  New Zealand  angrypanda168   \n",
              "\n",
              "              name  \n",
              "13  Georgia Cooper  \n",
              "19  Georgia Cooper  "
            ],
            "text/html": [
              "\n",
              "  <div id=\"df-bdb5c6ed-f67a-4661-811a-82dd25814db4\" class=\"colab-df-container\">\n",
              "    <div>\n",
              "<style scoped>\n",
              "    .dataframe tbody tr th:only-of-type {\n",
              "        vertical-align: middle;\n",
              "    }\n",
              "\n",
              "    .dataframe tbody tr th {\n",
              "        vertical-align: top;\n",
              "    }\n",
              "\n",
              "    .dataframe thead th {\n",
              "        text-align: right;\n",
              "    }\n",
              "</style>\n",
              "<table border=\"1\" class=\"dataframe\">\n",
              "  <thead>\n",
              "    <tr style=\"text-align: right;\">\n",
              "      <th></th>\n",
              "      <th>email_id</th>\n",
              "      <th>gender</th>\n",
              "      <th>country</th>\n",
              "      <th>username</th>\n",
              "      <th>name</th>\n",
              "    </tr>\n",
              "  </thead>\n",
              "  <tbody>\n",
              "    <tr>\n",
              "      <th>13</th>\n",
              "      <td>georgia.cooper@example.com</td>\n",
              "      <td>female</td>\n",
              "      <td>New Zealand</td>\n",
              "      <td>angrypanda168</td>\n",
              "      <td>Georgia Cooper</td>\n",
              "    </tr>\n",
              "    <tr>\n",
              "      <th>19</th>\n",
              "      <td>georgia.cooper@example.com</td>\n",
              "      <td>female</td>\n",
              "      <td>New Zealand</td>\n",
              "      <td>angrypanda168</td>\n",
              "      <td>Georgia Cooper</td>\n",
              "    </tr>\n",
              "  </tbody>\n",
              "</table>\n",
              "</div>\n",
              "    <div class=\"colab-df-buttons\">\n",
              "\n",
              "  <div class=\"colab-df-container\">\n",
              "    <button class=\"colab-df-convert\" onclick=\"convertToInteractive('df-bdb5c6ed-f67a-4661-811a-82dd25814db4')\"\n",
              "            title=\"Convert this dataframe to an interactive table.\"\n",
              "            style=\"display:none;\">\n",
              "\n",
              "  <svg xmlns=\"http://www.w3.org/2000/svg\" height=\"24px\" viewBox=\"0 -960 960 960\">\n",
              "    <path d=\"M120-120v-720h720v720H120Zm60-500h600v-160H180v160Zm220 220h160v-160H400v160Zm0 220h160v-160H400v160ZM180-400h160v-160H180v160Zm440 0h160v-160H620v160ZM180-180h160v-160H180v160Zm440 0h160v-160H620v160Z\"/>\n",
              "  </svg>\n",
              "    </button>\n",
              "\n",
              "  <style>\n",
              "    .colab-df-container {\n",
              "      display:flex;\n",
              "      gap: 12px;\n",
              "    }\n",
              "\n",
              "    .colab-df-convert {\n",
              "      background-color: #E8F0FE;\n",
              "      border: none;\n",
              "      border-radius: 50%;\n",
              "      cursor: pointer;\n",
              "      display: none;\n",
              "      fill: #1967D2;\n",
              "      height: 32px;\n",
              "      padding: 0 0 0 0;\n",
              "      width: 32px;\n",
              "    }\n",
              "\n",
              "    .colab-df-convert:hover {\n",
              "      background-color: #E2EBFA;\n",
              "      box-shadow: 0px 1px 2px rgba(60, 64, 67, 0.3), 0px 1px 3px 1px rgba(60, 64, 67, 0.15);\n",
              "      fill: #174EA6;\n",
              "    }\n",
              "\n",
              "    .colab-df-buttons div {\n",
              "      margin-bottom: 4px;\n",
              "    }\n",
              "\n",
              "    [theme=dark] .colab-df-convert {\n",
              "      background-color: #3B4455;\n",
              "      fill: #D2E3FC;\n",
              "    }\n",
              "\n",
              "    [theme=dark] .colab-df-convert:hover {\n",
              "      background-color: #434B5C;\n",
              "      box-shadow: 0px 1px 3px 1px rgba(0, 0, 0, 0.15);\n",
              "      filter: drop-shadow(0px 1px 2px rgba(0, 0, 0, 0.3));\n",
              "      fill: #FFFFFF;\n",
              "    }\n",
              "  </style>\n",
              "\n",
              "    <script>\n",
              "      const buttonEl =\n",
              "        document.querySelector('#df-bdb5c6ed-f67a-4661-811a-82dd25814db4 button.colab-df-convert');\n",
              "      buttonEl.style.display =\n",
              "        google.colab.kernel.accessAllowed ? 'block' : 'none';\n",
              "\n",
              "      async function convertToInteractive(key) {\n",
              "        const element = document.querySelector('#df-bdb5c6ed-f67a-4661-811a-82dd25814db4');\n",
              "        const dataTable =\n",
              "          await google.colab.kernel.invokeFunction('convertToInteractive',\n",
              "                                                    [key], {});\n",
              "        if (!dataTable) return;\n",
              "\n",
              "        const docLinkHtml = 'Like what you see? Visit the ' +\n",
              "          '<a target=\"_blank\" href=https://colab.research.google.com/notebooks/data_table.ipynb>data table notebook</a>'\n",
              "          + ' to learn more about interactive tables.';\n",
              "        element.innerHTML = '';\n",
              "        dataTable['output_type'] = 'display_data';\n",
              "        await google.colab.output.renderOutput(dataTable, element);\n",
              "        const docLink = document.createElement('div');\n",
              "        docLink.innerHTML = docLinkHtml;\n",
              "        element.appendChild(docLink);\n",
              "      }\n",
              "    </script>\n",
              "  </div>\n",
              "\n",
              "\n",
              "    <div id=\"df-4875677e-ba59-4caf-9ee8-3493e5488e18\">\n",
              "      <button class=\"colab-df-quickchart\" onclick=\"quickchart('df-4875677e-ba59-4caf-9ee8-3493e5488e18')\"\n",
              "                title=\"Suggest charts\"\n",
              "                style=\"display:none;\">\n",
              "\n",
              "<svg xmlns=\"http://www.w3.org/2000/svg\" height=\"24px\"viewBox=\"0 0 24 24\"\n",
              "     width=\"24px\">\n",
              "    <g>\n",
              "        <path d=\"M19 3H5c-1.1 0-2 .9-2 2v14c0 1.1.9 2 2 2h14c1.1 0 2-.9 2-2V5c0-1.1-.9-2-2-2zM9 17H7v-7h2v7zm4 0h-2V7h2v10zm4 0h-2v-4h2v4z\"/>\n",
              "    </g>\n",
              "</svg>\n",
              "      </button>\n",
              "\n",
              "<style>\n",
              "  .colab-df-quickchart {\n",
              "      --bg-color: #E8F0FE;\n",
              "      --fill-color: #1967D2;\n",
              "      --hover-bg-color: #E2EBFA;\n",
              "      --hover-fill-color: #174EA6;\n",
              "      --disabled-fill-color: #AAA;\n",
              "      --disabled-bg-color: #DDD;\n",
              "  }\n",
              "\n",
              "  [theme=dark] .colab-df-quickchart {\n",
              "      --bg-color: #3B4455;\n",
              "      --fill-color: #D2E3FC;\n",
              "      --hover-bg-color: #434B5C;\n",
              "      --hover-fill-color: #FFFFFF;\n",
              "      --disabled-bg-color: #3B4455;\n",
              "      --disabled-fill-color: #666;\n",
              "  }\n",
              "\n",
              "  .colab-df-quickchart {\n",
              "    background-color: var(--bg-color);\n",
              "    border: none;\n",
              "    border-radius: 50%;\n",
              "    cursor: pointer;\n",
              "    display: none;\n",
              "    fill: var(--fill-color);\n",
              "    height: 32px;\n",
              "    padding: 0;\n",
              "    width: 32px;\n",
              "  }\n",
              "\n",
              "  .colab-df-quickchart:hover {\n",
              "    background-color: var(--hover-bg-color);\n",
              "    box-shadow: 0 1px 2px rgba(60, 64, 67, 0.3), 0 1px 3px 1px rgba(60, 64, 67, 0.15);\n",
              "    fill: var(--button-hover-fill-color);\n",
              "  }\n",
              "\n",
              "  .colab-df-quickchart-complete:disabled,\n",
              "  .colab-df-quickchart-complete:disabled:hover {\n",
              "    background-color: var(--disabled-bg-color);\n",
              "    fill: var(--disabled-fill-color);\n",
              "    box-shadow: none;\n",
              "  }\n",
              "\n",
              "  .colab-df-spinner {\n",
              "    border: 2px solid var(--fill-color);\n",
              "    border-color: transparent;\n",
              "    border-bottom-color: var(--fill-color);\n",
              "    animation:\n",
              "      spin 1s steps(1) infinite;\n",
              "  }\n",
              "\n",
              "  @keyframes spin {\n",
              "    0% {\n",
              "      border-color: transparent;\n",
              "      border-bottom-color: var(--fill-color);\n",
              "      border-left-color: var(--fill-color);\n",
              "    }\n",
              "    20% {\n",
              "      border-color: transparent;\n",
              "      border-left-color: var(--fill-color);\n",
              "      border-top-color: var(--fill-color);\n",
              "    }\n",
              "    30% {\n",
              "      border-color: transparent;\n",
              "      border-left-color: var(--fill-color);\n",
              "      border-top-color: var(--fill-color);\n",
              "      border-right-color: var(--fill-color);\n",
              "    }\n",
              "    40% {\n",
              "      border-color: transparent;\n",
              "      border-right-color: var(--fill-color);\n",
              "      border-top-color: var(--fill-color);\n",
              "    }\n",
              "    60% {\n",
              "      border-color: transparent;\n",
              "      border-right-color: var(--fill-color);\n",
              "    }\n",
              "    80% {\n",
              "      border-color: transparent;\n",
              "      border-right-color: var(--fill-color);\n",
              "      border-bottom-color: var(--fill-color);\n",
              "    }\n",
              "    90% {\n",
              "      border-color: transparent;\n",
              "      border-bottom-color: var(--fill-color);\n",
              "    }\n",
              "  }\n",
              "</style>\n",
              "\n",
              "      <script>\n",
              "        async function quickchart(key) {\n",
              "          const quickchartButtonEl =\n",
              "            document.querySelector('#' + key + ' button');\n",
              "          quickchartButtonEl.disabled = true;  // To prevent multiple clicks.\n",
              "          quickchartButtonEl.classList.add('colab-df-spinner');\n",
              "          try {\n",
              "            const charts = await google.colab.kernel.invokeFunction(\n",
              "                'suggestCharts', [key], {});\n",
              "          } catch (error) {\n",
              "            console.error('Error during call to suggestCharts:', error);\n",
              "          }\n",
              "          quickchartButtonEl.classList.remove('colab-df-spinner');\n",
              "          quickchartButtonEl.classList.add('colab-df-quickchart-complete');\n",
              "        }\n",
              "        (() => {\n",
              "          let quickchartButtonEl =\n",
              "            document.querySelector('#df-4875677e-ba59-4caf-9ee8-3493e5488e18 button');\n",
              "          quickchartButtonEl.style.display =\n",
              "            google.colab.kernel.accessAllowed ? 'block' : 'none';\n",
              "        })();\n",
              "      </script>\n",
              "    </div>\n",
              "\n",
              "    </div>\n",
              "  </div>\n"
            ],
            "application/vnd.google.colaboratory.intrinsic+json": {
              "type": "dataframe",
              "summary": "{\n  \"name\": \"df\",\n  \"rows\": 2,\n  \"fields\": [\n    {\n      \"column\": \"email_id\",\n      \"properties\": {\n        \"dtype\": \"string\",\n        \"num_unique_values\": 1,\n        \"samples\": [\n          \"georgia.cooper@example.com\"\n        ],\n        \"semantic_type\": \"\",\n        \"description\": \"\"\n      }\n    },\n    {\n      \"column\": \"gender\",\n      \"properties\": {\n        \"dtype\": \"string\",\n        \"num_unique_values\": 1,\n        \"samples\": [\n          \"female\"\n        ],\n        \"semantic_type\": \"\",\n        \"description\": \"\"\n      }\n    },\n    {\n      \"column\": \"country\",\n      \"properties\": {\n        \"dtype\": \"string\",\n        \"num_unique_values\": 1,\n        \"samples\": [\n          \"New Zealand\"\n        ],\n        \"semantic_type\": \"\",\n        \"description\": \"\"\n      }\n    },\n    {\n      \"column\": \"username\",\n      \"properties\": {\n        \"dtype\": \"string\",\n        \"num_unique_values\": 1,\n        \"samples\": [\n          \"angrypanda168\"\n        ],\n        \"semantic_type\": \"\",\n        \"description\": \"\"\n      }\n    },\n    {\n      \"column\": \"name\",\n      \"properties\": {\n        \"dtype\": \"string\",\n        \"num_unique_values\": 1,\n        \"samples\": [\n          \"Georgia Cooper\"\n        ],\n        \"semantic_type\": \"\",\n        \"description\": \"\"\n      }\n    }\n  ]\n}"
            }
          },
          "metadata": {},
          "execution_count": 21
        }
      ]
    },
    {
      "cell_type": "code",
      "source": [
        "post_url = \"https://api.freeapi.app/api/v1/kitchen-sink/http-methods/post\"\n",
        "\n",
        "response = requests.get(post_url)"
      ],
      "metadata": {
        "id": "zPfGa5DZ2DqM"
      },
      "execution_count": null,
      "outputs": []
    },
    {
      "cell_type": "code",
      "source": [
        "response.headers"
      ],
      "metadata": {
        "colab": {
          "base_uri": "https://localhost:8080/"
        },
        "id": "RAxB95aB2Mkw",
        "outputId": "1e7af3ef-4fb1-460c-8ead-07d42e28194f"
      },
      "execution_count": null,
      "outputs": [
        {
          "output_type": "execute_result",
          "data": {
            "text/plain": [
              "{'Server': 'nginx/1.18.0 (Ubuntu)', 'Date': 'Sat, 03 May 2025 15:52:10 GMT', 'Content-Type': 'text/html; charset=utf-8', 'Transfer-Encoding': 'chunked', 'Connection': 'keep-alive', 'X-Powered-By': 'Express', 'Access-Control-Allow-Origin': '*', 'Access-Control-Allow-Credentials': 'true', 'RateLimit-Limit': '5000', 'RateLimit-Remaining': '4998', 'RateLimit-Reset': '494', 'ETag': 'W/\"c24-101sjkZSM1D5u285L87nw9jc8Ps\"', 'Set-Cookie': 'connect.sid=s%3AvXNtEgVxiOvNbJsgNm7rfwa7TUhn0G4_.fARAs8N%2BAsvarHBb5zhFl8JDKBMXFTq52dpqxrLkl5E; Path=/; HttpOnly', 'Content-Encoding': 'gzip'}"
            ]
          },
          "metadata": {},
          "execution_count": 26
        }
      ]
    },
    {
      "cell_type": "code",
      "source": [
        "response = requests.post(post_url)"
      ],
      "metadata": {
        "id": "bX5zBVsB2SdV"
      },
      "execution_count": null,
      "outputs": []
    },
    {
      "cell_type": "code",
      "source": [
        "response.text"
      ],
      "metadata": {
        "colab": {
          "base_uri": "https://localhost:8080/",
          "height": 70
        },
        "id": "yZYXXDHD2lJH",
        "outputId": "5d149c63-53a0-46e5-d9ee-acc26e9eaad5"
      },
      "execution_count": null,
      "outputs": [
        {
          "output_type": "execute_result",
          "data": {
            "text/plain": [
              "'{\"statusCode\":200,\"data\":{\"method\":\"POST\",\"headers\":{\"connection\":\"upgrade\",\"host\":\"api.freeapi.app\",\"x-real-ip\":\"34.48.61.57\",\"x-forwarded-for\":\"34.48.61.57\",\"content-length\":\"0\",\"user-agent\":\"python-requests/2.32.3\",\"accept-encoding\":\"gzip, deflate, zstd\",\"accept\":\"*/*\"},\"origin\":\"::ffff:172.25.0.3\",\"url\":\"http://api.freeapi.app/api/v1/kitchen-sink/http-methods/post\"},\"message\":\"POST request\",\"success\":true}'"
            ],
            "application/vnd.google.colaboratory.intrinsic+json": {
              "type": "string"
            }
          },
          "metadata": {},
          "execution_count": 28
        }
      ]
    },
    {
      "cell_type": "code",
      "source": [
        "response.json()"
      ],
      "metadata": {
        "colab": {
          "base_uri": "https://localhost:8080/"
        },
        "id": "LIFlDu3z2vfi",
        "outputId": "d9e80d27-257c-4e77-e99d-e1f07cfcec89"
      },
      "execution_count": null,
      "outputs": [
        {
          "output_type": "execute_result",
          "data": {
            "text/plain": [
              "{'statusCode': 200,\n",
              " 'data': {'method': 'POST',\n",
              "  'headers': {'connection': 'upgrade',\n",
              "   'host': 'api.freeapi.app',\n",
              "   'x-real-ip': '34.48.61.57',\n",
              "   'x-forwarded-for': '34.48.61.57',\n",
              "   'content-length': '0',\n",
              "   'user-agent': 'python-requests/2.32.3',\n",
              "   'accept-encoding': 'gzip, deflate, zstd',\n",
              "   'accept': '*/*'},\n",
              "  'origin': '::ffff:172.25.0.3',\n",
              "  'url': 'http://api.freeapi.app/api/v1/kitchen-sink/http-methods/post'},\n",
              " 'message': 'POST request',\n",
              " 'success': True}"
            ]
          },
          "metadata": {},
          "execution_count": 29
        }
      ]
    },
    {
      "cell_type": "code",
      "source": [
        "url = \"https://api.freeapi.app/api/v1/public/randomusers\"\n",
        "\n",
        "params = {\"page\":\"20\", \"limit\":\"10\"}\n",
        "\n",
        "response = requests.get(url, params=params)\n",
        "\n",
        "data = response.json()"
      ],
      "metadata": {
        "id": "oerYErkR2yqY"
      },
      "execution_count": null,
      "outputs": []
    },
    {
      "cell_type": "code",
      "source": [
        "len(data)"
      ],
      "metadata": {
        "colab": {
          "base_uri": "https://localhost:8080/"
        },
        "id": "2Sr2rG136EBS",
        "outputId": "6918c253-acf5-47b4-ce63-e718eb4b4205"
      },
      "execution_count": null,
      "outputs": [
        {
          "output_type": "execute_result",
          "data": {
            "text/plain": [
              "4"
            ]
          },
          "metadata": {},
          "execution_count": 78
        }
      ]
    },
    {
      "cell_type": "code",
      "source": [
        "type(data[\"data\"][\"data\"])"
      ],
      "metadata": {
        "colab": {
          "base_uri": "https://localhost:8080/"
        },
        "id": "tP-E2BjX6GfN",
        "outputId": "cf7b1533-0acb-4584-f1cb-6754e0922dce"
      },
      "execution_count": null,
      "outputs": [
        {
          "output_type": "execute_result",
          "data": {
            "text/plain": [
              "list"
            ]
          },
          "metadata": {},
          "execution_count": 79
        }
      ]
    },
    {
      "cell_type": "code",
      "source": [
        "len(data[\"data\"][\"data\"])"
      ],
      "metadata": {
        "colab": {
          "base_uri": "https://localhost:8080/"
        },
        "id": "Vlk4wjlR66Nx",
        "outputId": "b516c843-a2d7-494f-94d4-e6d78eab1088"
      },
      "execution_count": null,
      "outputs": [
        {
          "output_type": "execute_result",
          "data": {
            "text/plain": [
              "10"
            ]
          },
          "metadata": {},
          "execution_count": 80
        }
      ]
    },
    {
      "cell_type": "code",
      "source": [
        "data[\"data\"][\"data\"]"
      ],
      "metadata": {
        "colab": {
          "base_uri": "https://localhost:8080/"
        },
        "id": "1Rr0RNBw6K1N",
        "outputId": "4e121efd-d7fc-474f-92a7-82027d67bd06"
      },
      "execution_count": null,
      "outputs": [
        {
          "output_type": "execute_result",
          "data": {
            "text/plain": [
              "[{'gender': 'female',\n",
              "  'name': {'title': 'Ms', 'first': 'Asta', 'last': 'Larsen'},\n",
              "  'location': {'street': {'number': 253, 'name': 'Solvang'},\n",
              "   'city': 'Billum',\n",
              "   'state': 'Danmark',\n",
              "   'country': 'Denmark',\n",
              "   'postcode': 61927,\n",
              "   'coordinates': {'latitude': '3.6309', 'longitude': '74.8056'},\n",
              "   'timezone': {'offset': '-11:00', 'description': 'Midway Island, Samoa'}},\n",
              "  'email': 'asta.larsen@example.com',\n",
              "  'login': {'uuid': '985e7641-d550-488e-bc87-945307d7e65e',\n",
              "   'username': 'brownrabbit173',\n",
              "   'password': 'dalejr',\n",
              "   'salt': '49vQDGrw',\n",
              "   'md5': 'facde3f2084628718a4cf2814cc97659',\n",
              "   'sha1': 'a3cd571fe5a5c5ef2013172d3445910ed9733dfe',\n",
              "   'sha256': '91e5d6635469188db9396171935b845aa1ce13674a4aea2f0cfb79fa15753e84'},\n",
              "  'dob': {'date': '1954-04-08T18:44:56.638Z', 'age': 69},\n",
              "  'registered': {'date': '2013-07-19T06:50:12.391Z', 'age': 9},\n",
              "  'phone': '26171169',\n",
              "  'cell': '45725963',\n",
              "  'id': 191,\n",
              "  'picture': {'large': 'https://randomuser.me/api/portraits/women/58.jpg',\n",
              "   'medium': 'https://randomuser.me/api/portraits/med/women/58.jpg',\n",
              "   'thumbnail': 'https://randomuser.me/api/portraits/thumb/women/58.jpg'},\n",
              "  'nat': 'DK'},\n",
              " {'gender': 'male',\n",
              "  'name': {'title': 'Mr', 'first': 'Antonio', 'last': 'Wood'},\n",
              "  'location': {'street': {'number': 8275, 'name': 'Poplar Dr'},\n",
              "   'city': 'Colorado Springs',\n",
              "   'state': 'Kansas',\n",
              "   'country': 'United States',\n",
              "   'postcode': 60537,\n",
              "   'coordinates': {'latitude': '47.7868', 'longitude': '-11.3023'},\n",
              "   'timezone': {'offset': '-11:00', 'description': 'Midway Island, Samoa'}},\n",
              "  'email': 'antonio.wood@example.com',\n",
              "  'login': {'uuid': 'bfd7af29-6167-44c1-a2f8-fe0dd7654b53',\n",
              "   'username': 'sadzebra808',\n",
              "   'password': 'kristy',\n",
              "   'salt': '8JChzgpB',\n",
              "   'md5': 'c856797df8e764a13dbd0a66dd26e3ef',\n",
              "   'sha1': '1d22f50f7ae0eabb5b7d4efe41a54327ecafde41',\n",
              "   'sha256': '8bcf975ebd0c16fdcb5b3daaffb107904c58b560d114cfa5f8e0f2ebf5fe8986'},\n",
              "  'dob': {'date': '1954-11-27T00:13:33.560Z', 'age': 68},\n",
              "  'registered': {'date': '2019-03-21T08:34:34.606Z', 'age': 4},\n",
              "  'phone': '(819) 924-0274',\n",
              "  'cell': '(619) 822-8729',\n",
              "  'id': 192,\n",
              "  'picture': {'large': 'https://randomuser.me/api/portraits/men/31.jpg',\n",
              "   'medium': 'https://randomuser.me/api/portraits/med/men/31.jpg',\n",
              "   'thumbnail': 'https://randomuser.me/api/portraits/thumb/men/31.jpg'},\n",
              "  'nat': 'US'},\n",
              " {'gender': 'female',\n",
              "  'name': {'title': 'Miss', 'first': 'Dragica', 'last': 'Šarić'},\n",
              "  'location': {'street': {'number': 5982, 'name': 'Mila Miranovića'},\n",
              "   'city': 'Rača',\n",
              "   'state': 'Podunavlje',\n",
              "   'country': 'Serbia',\n",
              "   'postcode': 81130,\n",
              "   'coordinates': {'latitude': '87.1947', 'longitude': '-164.5265'},\n",
              "   'timezone': {'offset': '-5:00',\n",
              "    'description': 'Eastern Time (US & Canada), Bogota, Lima'}},\n",
              "  'email': 'dragica.saric@example.com',\n",
              "  'login': {'uuid': '48ebb554-f636-48d1-8668-c07cdcbc8fa3',\n",
              "   'username': 'smallmouse513',\n",
              "   'password': 'dipper',\n",
              "   'salt': 'dGfEuTje',\n",
              "   'md5': '06d273a373d31e32202c6fcf7646afeb',\n",
              "   'sha1': '036a488b7b4be7dd1131e6a4edf46962b3f38bc2',\n",
              "   'sha256': 'cd89a3b4f18f82fe260e74f05c8523c1f2bf1f335a9f2df27429548365ef0ae3'},\n",
              "  'dob': {'date': '1950-04-21T20:12:16.602Z', 'age': 73},\n",
              "  'registered': {'date': '2020-11-16T23:52:36.442Z', 'age': 2},\n",
              "  'phone': '018-8189-585',\n",
              "  'cell': '064-5197-432',\n",
              "  'id': 193,\n",
              "  'picture': {'large': 'https://randomuser.me/api/portraits/women/40.jpg',\n",
              "   'medium': 'https://randomuser.me/api/portraits/med/women/40.jpg',\n",
              "   'thumbnail': 'https://randomuser.me/api/portraits/thumb/women/40.jpg'},\n",
              "  'nat': 'RS'},\n",
              " {'gender': 'female',\n",
              "  'name': {'title': 'Ms', 'first': 'Sedef', 'last': 'Eronat'},\n",
              "  'location': {'street': {'number': 3430, 'name': 'Maçka Cd'},\n",
              "   'city': 'Van',\n",
              "   'state': 'Bayburt',\n",
              "   'country': 'Turkey',\n",
              "   'postcode': 69046,\n",
              "   'coordinates': {'latitude': '-42.3120', 'longitude': '-11.9246'},\n",
              "   'timezone': {'offset': '-3:00',\n",
              "    'description': 'Brazil, Buenos Aires, Georgetown'}},\n",
              "  'email': 'sedef.eronat@example.com',\n",
              "  'login': {'uuid': '4fd4cc77-5fd1-4b4b-be90-0fb788896c20',\n",
              "   'username': 'heavyfrog357',\n",
              "   'password': 'decker',\n",
              "   'salt': '89mwzn9w',\n",
              "   'md5': '2a84d5b357908bc6ce957461c63a2607',\n",
              "   'sha1': 'af1a4fa9606b1e6b38ebd67790d7a49fa48155f8',\n",
              "   'sha256': '60549e74c9ce847f11b78d6f9eb967b0ca6c8292931923bb678fd1991881116d'},\n",
              "  'dob': {'date': '1972-08-22T01:29:55.980Z', 'age': 50},\n",
              "  'registered': {'date': '2022-03-01T10:05:06.953Z', 'age': 1},\n",
              "  'phone': '(597)-148-2697',\n",
              "  'cell': '(560)-584-5737',\n",
              "  'id': 194,\n",
              "  'picture': {'large': 'https://randomuser.me/api/portraits/women/41.jpg',\n",
              "   'medium': 'https://randomuser.me/api/portraits/med/women/41.jpg',\n",
              "   'thumbnail': 'https://randomuser.me/api/portraits/thumb/women/41.jpg'},\n",
              "  'nat': 'TR'},\n",
              " {'gender': 'male',\n",
              "  'name': {'title': 'Mr', 'first': 'Norman', 'last': 'Alvarez'},\n",
              "  'location': {'street': {'number': 4276, 'name': 'Frances Ct'},\n",
              "   'city': 'Augusta',\n",
              "   'state': 'Iowa',\n",
              "   'country': 'United States',\n",
              "   'postcode': 41225,\n",
              "   'coordinates': {'latitude': '-9.5417', 'longitude': '21.2371'},\n",
              "   'timezone': {'offset': '+5:30',\n",
              "    'description': 'Bombay, Calcutta, Madras, New Delhi'}},\n",
              "  'email': 'norman.alvarez@example.com',\n",
              "  'login': {'uuid': '09d4eae2-27c6-4575-8cef-895e8a14c8d6',\n",
              "   'username': 'crazylion840',\n",
              "   'password': 'dunbar',\n",
              "   'salt': 'Kjk9RjyP',\n",
              "   'md5': '0dbc888b7da6b21ac11d9cafd0ea45d0',\n",
              "   'sha1': 'b8e83be6998056addf021055b566a607266c6e1a',\n",
              "   'sha256': 'fab76a5f07b8aabd895c974e477f35d698060f243ca053cc043f56158652eee5'},\n",
              "  'dob': {'date': '1996-06-15T13:55:30.356Z', 'age': 26},\n",
              "  'registered': {'date': '2015-01-26T15:46:14.218Z', 'age': 8},\n",
              "  'phone': '(654) 594-0084',\n",
              "  'cell': '(241) 224-1503',\n",
              "  'id': 195,\n",
              "  'picture': {'large': 'https://randomuser.me/api/portraits/men/66.jpg',\n",
              "   'medium': 'https://randomuser.me/api/portraits/med/men/66.jpg',\n",
              "   'thumbnail': 'https://randomuser.me/api/portraits/thumb/men/66.jpg'},\n",
              "  'nat': 'US'},\n",
              " {'gender': 'male',\n",
              "  'name': {'title': 'Mr', 'first': 'Lucas', 'last': 'Garrido'},\n",
              "  'location': {'street': {'number': 5746, 'name': 'Calle de Téllez'},\n",
              "   'city': 'San Sebastián',\n",
              "   'state': 'Islas Baleares',\n",
              "   'country': 'Spain',\n",
              "   'postcode': 47860,\n",
              "   'coordinates': {'latitude': '53.0599', 'longitude': '30.4796'},\n",
              "   'timezone': {'offset': '+11:00',\n",
              "    'description': 'Magadan, Solomon Islands, New Caledonia'}},\n",
              "  'email': 'lucas.garrido@example.com',\n",
              "  'login': {'uuid': 'b70ba89e-3658-4406-a94d-ad89cf69c71d',\n",
              "   'username': 'lazyswan130',\n",
              "   'password': '',\n",
              "   'salt': 'CQYprJmg',\n",
              "   'md5': '0f1fbe893c7fb7a1632b06af2c4fc554',\n",
              "   'sha1': 'ea4205083ceea6a1bf0fc087b5be12938da57f65',\n",
              "   'sha256': '97b621ecb3902bd3dd8e8b8b8a8043f5573fabee7ee9c3306b2bdfce58ca447d'},\n",
              "  'dob': {'date': '1978-11-19T02:34:57.609Z', 'age': 44},\n",
              "  'registered': {'date': '2007-04-05T22:26:45.743Z', 'age': 16},\n",
              "  'phone': '999-392-382',\n",
              "  'cell': '607-447-746',\n",
              "  'id': 196,\n",
              "  'picture': {'large': 'https://randomuser.me/api/portraits/men/35.jpg',\n",
              "   'medium': 'https://randomuser.me/api/portraits/med/men/35.jpg',\n",
              "   'thumbnail': 'https://randomuser.me/api/portraits/thumb/men/35.jpg'},\n",
              "  'nat': 'ES'},\n",
              " {'gender': 'female',\n",
              "  'name': {'title': 'Miss', 'first': 'Tammy', 'last': 'Herrera'},\n",
              "  'location': {'street': {'number': 8643, 'name': 'School Lane'},\n",
              "   'city': 'Ripon',\n",
              "   'state': 'West Sussex',\n",
              "   'country': 'United Kingdom',\n",
              "   'postcode': 'S6 2QN',\n",
              "   'coordinates': {'latitude': '-9.8238', 'longitude': '-97.4762'},\n",
              "   'timezone': {'offset': '-8:00',\n",
              "    'description': 'Pacific Time (US & Canada)'}},\n",
              "  'email': 'tammy.herrera@example.com',\n",
              "  'login': {'uuid': 'f161464a-2e28-4e37-8553-e02738553d24',\n",
              "   'username': 'orangedog495',\n",
              "   'password': 'wiseguy',\n",
              "   'salt': 's4VNOB7j',\n",
              "   'md5': 'cfdb18317ac8deabacfbae959f99d679',\n",
              "   'sha1': 'b506f6bd36a63e72963591fb02867cb88074dd6b',\n",
              "   'sha256': '766386f4da04e95a4a711b5f28f939376ed4be67701b664ed14276306b85d340'},\n",
              "  'dob': {'date': '1974-12-20T10:27:09.397Z', 'age': 48},\n",
              "  'registered': {'date': '2020-11-02T04:13:38.535Z', 'age': 2},\n",
              "  'phone': '015394 06624',\n",
              "  'cell': '07755 410943',\n",
              "  'id': 197,\n",
              "  'picture': {'large': 'https://randomuser.me/api/portraits/women/91.jpg',\n",
              "   'medium': 'https://randomuser.me/api/portraits/med/women/91.jpg',\n",
              "   'thumbnail': 'https://randomuser.me/api/portraits/thumb/women/91.jpg'},\n",
              "  'nat': 'GB'},\n",
              " {'gender': 'female',\n",
              "  'name': {'title': 'Mrs', 'first': 'ستایش', 'last': 'قاسمی'},\n",
              "  'location': {'street': {'number': 6646, 'name': 'دماوند'},\n",
              "   'city': 'اهواز',\n",
              "   'state': 'چهارمحال و بختیاری',\n",
              "   'country': 'Iran',\n",
              "   'postcode': 95500,\n",
              "   'coordinates': {'latitude': '13.1211', 'longitude': '52.3744'},\n",
              "   'timezone': {'offset': '-5:00',\n",
              "    'description': 'Eastern Time (US & Canada), Bogota, Lima'}},\n",
              "  'email': 'stysh.qsmy@example.com',\n",
              "  'login': {'uuid': 'ccd0b4e8-9605-4ece-af51-12703fb7a0ff',\n",
              "   'username': 'goldenwolf294',\n",
              "   'password': 'kentucky',\n",
              "   'salt': 'jomxXf93',\n",
              "   'md5': 'd1fed6de5231297b59ea565f14f534a8',\n",
              "   'sha1': '435ecbd9635afb552b2ea6e7b0c1340ac14cd0cb',\n",
              "   'sha256': '9f4647d432e1d5dcc42bcc15bf84b37a2498955cc9648e5c8ef98ae21518d517'},\n",
              "  'dob': {'date': '2001-05-17T00:38:18.884Z', 'age': 22},\n",
              "  'registered': {'date': '2020-02-25T12:36:01.351Z', 'age': 3},\n",
              "  'phone': '023-48118240',\n",
              "  'cell': '0954-558-4892',\n",
              "  'id': 198,\n",
              "  'picture': {'large': 'https://randomuser.me/api/portraits/women/94.jpg',\n",
              "   'medium': 'https://randomuser.me/api/portraits/med/women/94.jpg',\n",
              "   'thumbnail': 'https://randomuser.me/api/portraits/thumb/women/94.jpg'},\n",
              "  'nat': 'IR'},\n",
              " {'gender': 'female',\n",
              "  'name': {'title': 'Miss', 'first': 'Rosario', 'last': 'Mora'},\n",
              "  'location': {'street': {'number': 2958, 'name': 'Avenida de Salamanca'},\n",
              "   'city': 'Alcobendas',\n",
              "   'state': 'Andalucía',\n",
              "   'country': 'Spain',\n",
              "   'postcode': 57070,\n",
              "   'coordinates': {'latitude': '-13.7271', 'longitude': '31.3279'},\n",
              "   'timezone': {'offset': '-5:00',\n",
              "    'description': 'Eastern Time (US & Canada), Bogota, Lima'}},\n",
              "  'email': 'rosario.mora@example.com',\n",
              "  'login': {'uuid': '299f6038-8fe4-498b-87ee-718c154b561c',\n",
              "   'username': 'purplepanda966',\n",
              "   'password': 'mitch',\n",
              "   'salt': 'Uu7JSRHH',\n",
              "   'md5': 'b933265983b50dedff53e6dbd813be24',\n",
              "   'sha1': '8a355eaa231d649bd9367e3887040d9b1328fb09',\n",
              "   'sha256': 'c045dfccd53d72802f305698ad0a48f8b0d035327fe9f6008c84745c5c22e9e7'},\n",
              "  'dob': {'date': '1947-05-12T13:21:12.143Z', 'age': 76},\n",
              "  'registered': {'date': '2011-12-01T14:26:22.755Z', 'age': 11},\n",
              "  'phone': '942-042-815',\n",
              "  'cell': '682-021-852',\n",
              "  'id': 199,\n",
              "  'picture': {'large': 'https://randomuser.me/api/portraits/women/80.jpg',\n",
              "   'medium': 'https://randomuser.me/api/portraits/med/women/80.jpg',\n",
              "   'thumbnail': 'https://randomuser.me/api/portraits/thumb/women/80.jpg'},\n",
              "  'nat': 'ES'},\n",
              " {'gender': 'female',\n",
              "  'name': {'title': 'Miss', 'first': 'آوین', 'last': 'زارعی'},\n",
              "  'location': {'street': {'number': 5576, 'name': 'دکتر علی شریعتی'},\n",
              "   'city': 'بابل',\n",
              "   'state': 'خراسان رضوی',\n",
              "   'country': 'Iran',\n",
              "   'postcode': 52044,\n",
              "   'coordinates': {'latitude': '75.2360', 'longitude': '162.1923'},\n",
              "   'timezone': {'offset': '+4:30', 'description': 'Kabul'}},\n",
              "  'email': 'awyn.zraay@example.com',\n",
              "  'login': {'uuid': '58139c3a-90fb-43ad-9a41-b22657111052',\n",
              "   'username': 'yellowostrich228',\n",
              "   'password': 'saturn',\n",
              "   'salt': 'SI3sczHR',\n",
              "   'md5': '121efa80d7856c7f9db545b9073c1b2b',\n",
              "   'sha1': 'a38c8709ebab0e9f4dd5f07182f436c674e60188',\n",
              "   'sha256': 'db7bd6051615eb1dc03d6e4f74b446e8a560c75bbc6320469d7de85eb83087f9'},\n",
              "  'dob': {'date': '1999-09-30T00:50:34.202Z', 'age': 23},\n",
              "  'registered': {'date': '2010-12-26T17:01:23.352Z', 'age': 12},\n",
              "  'phone': '073-63740033',\n",
              "  'cell': '0956-050-1294',\n",
              "  'id': 200,\n",
              "  'picture': {'large': 'https://randomuser.me/api/portraits/women/7.jpg',\n",
              "   'medium': 'https://randomuser.me/api/portraits/med/women/7.jpg',\n",
              "   'thumbnail': 'https://randomuser.me/api/portraits/thumb/women/7.jpg'},\n",
              "  'nat': 'IR'}]"
            ]
          },
          "metadata": {},
          "execution_count": 81
        }
      ]
    },
    {
      "cell_type": "code",
      "source": [],
      "metadata": {
        "id": "zlJG6lFf9Ec7"
      },
      "execution_count": null,
      "outputs": []
    }
  ]
}