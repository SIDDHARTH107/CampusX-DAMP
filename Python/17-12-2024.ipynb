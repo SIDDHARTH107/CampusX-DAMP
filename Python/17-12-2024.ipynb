{
 "cells": [
  {
   "cell_type": "markdown",
   "id": "7ef38dd5-68fa-45ca-93d1-1693691ee6d7",
   "metadata": {},
   "source": [
    "# LOOPS"
   ]
  },
  {
   "cell_type": "markdown",
   "id": "2bd2dd33-b749-45f7-b14a-000a2e48f6dc",
   "metadata": {},
   "source": [
    "## WHILE LOOP."
   ]
  },
  {
   "cell_type": "code",
   "execution_count": 1,
   "id": "0e3f559d-5bdc-417a-94d8-bc0efa1f95e6",
   "metadata": {},
   "outputs": [
    {
     "name": "stdout",
     "output_type": "stream",
     "text": [
      "2*-2=-4\n",
      "2*-1=-2\n",
      "2*0=0\n",
      "2*1=2\n",
      "2*2=4\n",
      "2*3=6\n",
      "2*4=8\n",
      "2*5=10\n",
      "2*6=12\n",
      "2*7=14\n",
      "2*8=16\n",
      "2*9=18\n",
      "2*10=20\n",
      "2*11=22\n",
      "2*12=24\n",
      "2*13=26\n",
      "2*14=28\n",
      "2*15=30\n",
      "2*16=32\n",
      "2*17=34\n",
      "2*18=36\n",
      "2*19=38\n",
      "2*20=40\n",
      "2*21=42\n",
      "2*22=44\n",
      "2*23=46\n",
      "2*24=48\n",
      "2*25=50\n",
      "2*26=52\n",
      "2*27=54\n",
      "2*28=56\n",
      "2*29=58\n",
      "2*30=60\n",
      "2*31=62\n",
      "2*32=64\n",
      "2*33=66\n",
      "2*34=68\n",
      "2*35=70\n",
      "2*36=72\n",
      "2*37=74\n",
      "2*38=76\n",
      "2*39=78\n",
      "2*40=80\n",
      "2*41=82\n",
      "2*42=84\n",
      "2*43=86\n",
      "2*44=88\n",
      "2*45=90\n",
      "2*46=92\n",
      "2*47=94\n",
      "2*48=96\n",
      "2*49=98\n",
      "2*50=100\n",
      "2*51=102\n",
      "2*52=104\n",
      "2*53=106\n",
      "2*54=108\n",
      "2*55=110\n",
      "2*56=112\n",
      "2*57=114\n",
      "2*58=116\n",
      "2*59=118\n",
      "2*60=120\n",
      "2*61=122\n",
      "2*62=124\n",
      "2*63=126\n",
      "2*64=128\n",
      "2*65=130\n",
      "2*66=132\n",
      "2*67=134\n",
      "2*68=136\n",
      "2*69=138\n",
      "2*70=140\n",
      "2*71=142\n",
      "2*72=144\n",
      "2*73=146\n",
      "2*74=148\n",
      "2*75=150\n",
      "2*76=152\n",
      "2*77=154\n",
      "2*78=156\n",
      "2*79=158\n",
      "2*80=160\n",
      "2*81=162\n",
      "2*82=164\n",
      "2*83=166\n",
      "2*84=168\n",
      "2*85=170\n",
      "2*86=172\n",
      "2*87=174\n",
      "2*88=176\n",
      "2*89=178\n",
      "2*90=180\n",
      "2*91=182\n",
      "2*92=184\n",
      "2*93=186\n",
      "2*94=188\n",
      "2*95=190\n",
      "2*96=192\n",
      "2*97=194\n",
      "2*98=196\n",
      "2*99=198\n",
      "2*100=200\n"
     ]
    }
   ],
   "source": [
    "i=-2\n",
    "while i<=100:\n",
    "    print(f\"2*{i}={2*i}\")\n",
    "    i=i+1\n",
    "    "
   ]
  },
  {
   "cell_type": "code",
   "execution_count": 2,
   "id": "c7ae97c4-1dc3-46b2-b0d1-80d75844f92c",
   "metadata": {},
   "outputs": [],
   "source": [
    "# Print  \"hello\" 15 times."
   ]
  },
  {
   "cell_type": "code",
   "execution_count": 4,
   "id": "956742cf-101c-4880-b8f9-719b7a471acf",
   "metadata": {},
   "outputs": [
    {
     "name": "stdout",
     "output_type": "stream",
     "text": [
      "Hello.\n",
      "Hello.\n",
      "Hello.\n",
      "Hello.\n",
      "Hello.\n",
      "Hello.\n",
      "Hello.\n",
      "Hello.\n",
      "Hello.\n",
      "Hello.\n",
      "Hello.\n",
      "Hello.\n",
      "Hello.\n",
      "Hello.\n",
      "Hello.\n"
     ]
    }
   ],
   "source": [
    "i=1\n",
    "while i<=15:\n",
    "    print(\"Hello.\")\n",
    "    i=i+1"
   ]
  },
  {
   "cell_type": "code",
   "execution_count": 12,
   "id": "e6ee2ed8-276e-4e7f-909b-3262f119f051",
   "metadata": {},
   "outputs": [
    {
     "name": "stdin",
     "output_type": "stream",
     "text": [
      "Please enter the number for which you want table to be printed. 8\n",
      "Please enter the term till which you want table to be generated. 5\n"
     ]
    },
    {
     "name": "stdout",
     "output_type": "stream",
     "text": [
      "8*1= 8\n",
      "8*2= 16\n",
      "8*3= 24\n",
      "8*4= 32\n",
      "8*5= 40\n"
     ]
    }
   ],
   "source": [
    "n = int(input(\"Please enter the number for which you want table to be printed.\"))\n",
    "k = int(input(\"Please enter the term till which you want table to be generated.\"))\n",
    "i=1\n",
    "while i<=k:\n",
    "    print(f\"{n}*{i}= {n*i}\")\n",
    "    i=i+1"
   ]
  },
  {
   "cell_type": "code",
   "execution_count": 15,
   "id": "c52ed2c3-156c-4ea6-9bbc-71e94552dd8d",
   "metadata": {},
   "outputs": [
    {
     "name": "stdin",
     "output_type": "stream",
     "text": [
      "Please enter the number for which factorail needs to be finded. 7\n"
     ]
    },
    {
     "name": "stdout",
     "output_type": "stream",
     "text": [
      "factorial for 7 is 5040\n"
     ]
    }
   ],
   "source": [
    "# TAKE INPUT FROM USER AND PRINT FACTORIAL.\n",
    "n = int(input(\"Please enter the number for which factorial needs to be finded.\"))\n",
    "\n",
    "fact = 1\n",
    "i=1\n",
    "while i<=5:\n",
    "    fact = fact*i\n",
    "    i=i+1\n",
    "\n",
    "print(f\"factorial for {n} is {fact}\")"
   ]
  },
  {
   "cell_type": "code",
   "execution_count": 19,
   "id": "0ab0a94a-2e9f-419d-b1aa-65bd7fd66a21",
   "metadata": {},
   "outputs": [
    {
     "name": "stdin",
     "output_type": "stream",
     "text": [
      "Please enter the number  till we want even numbers. 20\n"
     ]
    },
    {
     "name": "stdout",
     "output_type": "stream",
     "text": [
      "2\n",
      "4\n",
      "6\n",
      "8\n",
      "10\n",
      "12\n",
      "14\n",
      "16\n",
      "18\n",
      "20\n"
     ]
    }
   ],
   "source": [
    "# Find even numbers from  2 till user specified.\n",
    "n = int(input(\"Please enter the number  till we want even numbers.\"))\n",
    "i=1\n",
    "while i<=n:\n",
    "    if(i%2==0):\n",
    "        print(i)\n",
    "    i=i+1"
   ]
  },
  {
   "cell_type": "markdown",
   "id": "2d2ddab5-773e-4fd5-b46c-5b25bac2e1b0",
   "metadata": {},
   "source": [
    "## FOOR LOOP."
   ]
  },
  {
   "cell_type": "markdown",
   "id": "e6394f87-3690-4290-92dc-00e9d1a2f69c",
   "metadata": {},
   "source": [
    "### ITERABLE OBJECTS."
   ]
  },
  {
   "cell_type": "code",
   "execution_count": 21,
   "id": "bac68333-9914-4da2-bfed-3d036595107a",
   "metadata": {},
   "outputs": [],
   "source": [
    "fruits = [\"Apple\", \"Mango\" , \"Grapes\", \"Banana\",\"Orange\"]"
   ]
  },
  {
   "cell_type": "code",
   "execution_count": 46,
   "id": "328603c3-61eb-41f1-9631-09b787d8692e",
   "metadata": {},
   "outputs": [
    {
     "data": {
      "text/plain": [
       "'Mango'"
      ]
     },
     "execution_count": 46,
     "metadata": {},
     "output_type": "execute_result"
    }
   ],
   "source": [
    "fruits[1]"
   ]
  },
  {
   "cell_type": "code",
   "execution_count": 27,
   "id": "d10c3999-5196-4f16-9d6d-1e0cb15237fe",
   "metadata": {},
   "outputs": [],
   "source": [
    "name = \"Ajay Sati\""
   ]
  },
  {
   "cell_type": "code",
   "execution_count": 39,
   "id": "53014c66-5229-4cd5-927a-098e3f99d7ff",
   "metadata": {},
   "outputs": [],
   "source": [
    "dic= {\n",
    "    \"a\": [1,2,3,4],\n",
    "    \"b\": [5,6,7,8]\n",
    "}"
   ]
  },
  {
   "cell_type": "code",
   "execution_count": 41,
   "id": "1e884a89-f5d2-4693-9746-8963aee1aad2",
   "metadata": {},
   "outputs": [
    {
     "data": {
      "text/plain": [
       "[1, 2, 3, 4]"
      ]
     },
     "execution_count": 41,
     "metadata": {},
     "output_type": "execute_result"
    }
   ],
   "source": [
    "dic[\"a\"]"
   ]
  },
  {
   "cell_type": "code",
   "execution_count": 42,
   "id": "c29c269e-9ac5-4111-b306-a2ebdf6bbf08",
   "metadata": {},
   "outputs": [],
   "source": [
    "num = 5444565456"
   ]
  },
  {
   "cell_type": "code",
   "execution_count": null,
   "id": "d362881c-983c-404e-9997-19c9cc7b602d",
   "metadata": {},
   "outputs": [],
   "source": []
  },
  {
   "cell_type": "code",
   "execution_count": null,
   "id": "dc09b549-aac6-4e81-acf9-82be8d79228b",
   "metadata": {},
   "outputs": [],
   "source": []
  }
 ],
 "metadata": {
  "kernelspec": {
   "display_name": "Python 3 (ipykernel)",
   "language": "python",
   "name": "python3"
  },
  "language_info": {
   "codemirror_mode": {
    "name": "ipython",
    "version": 3
   },
   "file_extension": ".py",
   "mimetype": "text/x-python",
   "name": "python",
   "nbconvert_exporter": "python",
   "pygments_lexer": "ipython3",
   "version": "3.12.7"
  }
 },
 "nbformat": 4,
 "nbformat_minor": 5
}
