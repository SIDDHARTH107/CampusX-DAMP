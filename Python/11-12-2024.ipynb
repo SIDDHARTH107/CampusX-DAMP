{
 "cells": [
  {
   "cell_type": "raw",
   "id": "e42f859f-90c2-434e-9435-2dfed88d4767",
   "metadata": {},
   "source": [
    "Take Input(length & breadth) from the user and print the area of the rectangle."
   ]
  },
  {
   "cell_type": "code",
   "execution_count": 3,
   "id": "98e249a2-e702-4bb1-83af-0f478a78368d",
   "metadata": {},
   "outputs": [
    {
     "name": "stdin",
     "output_type": "stream",
     "text": [
      "Enter length. 5\n",
      "Enter Breadth. 5\n"
     ]
    },
    {
     "name": "stdout",
     "output_type": "stream",
     "text": [
      "Area of Rectange is 25.0\n",
      "Area of Rectange is {area}\n"
     ]
    }
   ],
   "source": [
    "l = float(input(\"Enter length.\"))\n",
    "b= float(input(\"Enter Breadth.\"))\n",
    "\n",
    "area = l*b\n",
    "print(f\"Area of Rectange is {area}\")"
   ]
  },
  {
   "cell_type": "raw",
   "id": "9f6ac816-3485-45ff-851d-301a20ebaaaa",
   "metadata": {},
   "source": [
    "An employee wants to count the total experience in years  he has by itself, to help him find his experience in the number of months and days (assuming each month is  of 30 days). \n"
   ]
  },
  {
   "cell_type": "code",
   "execution_count": 7,
   "id": "8eaa9094-8031-457f-a5fb-53bec9bc51c0",
   "metadata": {},
   "outputs": [
    {
     "name": "stdin",
     "output_type": "stream",
     "text": [
      "Please enter number of days. 155\n"
     ]
    },
    {
     "name": "stdout",
     "output_type": "stream",
     "text": [
      "Experince for the person for 155 days  is 5 month and 5 days.\n"
     ]
    }
   ],
   "source": [
    "numbers = int(input(\"Please enter number of days.\"))\n",
    "\n",
    "month = numbers//30\n",
    "days = numbers%30  \n",
    "\n",
    "print(f\"Experince for the person for {numbers} days  is {month} month and {days} days.\")"
   ]
  },
  {
   "cell_type": "raw",
   "id": "6af7ecc4-9d3a-4551-857d-d1eb80b2bf72",
   "metadata": {},
   "source": [
    "Enter a number and find its square root."
   ]
  },
  {
   "cell_type": "code",
   "execution_count": 13,
   "id": "58f1a979-fac5-4441-849b-411eadd52ee9",
   "metadata": {},
   "outputs": [
    {
     "name": "stdin",
     "output_type": "stream",
     "text": [
      "Please enter the number. 16\n"
     ]
    },
    {
     "name": "stdout",
     "output_type": "stream",
     "text": [
      "4.0\n",
      "4.0\n"
     ]
    }
   ],
   "source": [
    "number = int(input(\"Please enter the number.\"))\n",
    "\n",
    "sqr = pow(number, 0.5)\n",
    "sqr2 = number ** 0.5\n",
    "print(sqr)\n",
    "print(sqr2)"
   ]
  },
  {
   "cell_type": "raw",
   "id": "8438186e-af4c-468f-969f-e82358d27c31",
   "metadata": {},
   "source": [
    "Ask User for two numbers and raise one to the power of another."
   ]
  },
  {
   "cell_type": "raw",
   "id": "09b0db4a-4ae8-407d-b080-cbfef2fc98a6",
   "metadata": {},
   "source": [
    "Ask the user to enter the time in seconds and convert it into hours, minutes, and seconds."
   ]
  },
  {
   "cell_type": "code",
   "execution_count": 15,
   "id": "b82cf979-29d0-463b-821a-cd22be2b0068",
   "metadata": {},
   "outputs": [
    {
     "name": "stdin",
     "output_type": "stream",
     "text": [
      "Please enter time in seconds. 8526\n"
     ]
    },
    {
     "name": "stdout",
     "output_type": "stream",
     "text": [
      "8526  value = 2 hours , 22 minute, 6 seconds\n"
     ]
    }
   ],
   "source": [
    "i = int(input(\"Please enter time in seconds.\"))\n",
    "\n",
    "hours = i//3600   #hours\n",
    "rem_secon = i%3600   # remaining seconds after calculating hours.\n",
    "minutes = rem_secon//60\n",
    "seconds = rem_secon%60\n",
    "\n",
    "print( f\"{i}  value = {hours} hours , {minutes} minute, {seconds} seconds\")"
   ]
  },
  {
   "cell_type": "raw",
   "id": "7bae697d-dd45-449f-9372-ebc636cb8800",
   "metadata": {},
   "source": [
    "Input the principal, rate of interest, and time in years, then calculate and print the simple interest.\n"
   ]
  },
  {
   "cell_type": "code",
   "execution_count": 17,
   "id": "490bf197-3efc-4a07-9563-cb1bdaca627c",
   "metadata": {},
   "outputs": [],
   "source": [
    "# DATA TYPES."
   ]
  },
  {
   "cell_type": "code",
   "execution_count": 18,
   "id": "56f04da5-aaa9-498d-b3f7-cf51e9ad5e65",
   "metadata": {},
   "outputs": [
    {
     "name": "stdout",
     "output_type": "stream",
     "text": [
      "10\n",
      "140737102228184\n"
     ]
    }
   ],
   "source": [
    "a= 10\n",
    "print(a)\n",
    "print(id(a))"
   ]
  },
  {
   "cell_type": "code",
   "execution_count": 19,
   "id": "2ee84d04-3dfc-49c0-87f0-941482476fd2",
   "metadata": {},
   "outputs": [
    {
     "name": "stdout",
     "output_type": "stream",
     "text": [
      "100\n",
      "140737102231064\n"
     ]
    }
   ],
   "source": [
    "a=a*10\n",
    "print(a)\n",
    "print(id(a))"
   ]
  },
  {
   "cell_type": "code",
   "execution_count": 20,
   "id": "2907cdec-566c-4c2f-8f03-ae39e0666fe1",
   "metadata": {},
   "outputs": [],
   "source": [
    "#list"
   ]
  },
  {
   "cell_type": "code",
   "execution_count": 49,
   "id": "c49cb666-1079-47ac-88ba-d702766720e6",
   "metadata": {},
   "outputs": [],
   "source": [
    "a = [1 ,2 , 3 , 4 , 5 , 6 ,7,8,9,10]"
   ]
  },
  {
   "cell_type": "code",
   "execution_count": 29,
   "id": "1b4a3c92-6bcf-4da9-ae0b-88df10bff4b2",
   "metadata": {},
   "outputs": [
    {
     "data": {
      "text/plain": [
       "4"
      ]
     },
     "execution_count": 29,
     "metadata": {},
     "output_type": "execute_result"
    }
   ],
   "source": [
    "a[3]"
   ]
  },
  {
   "cell_type": "code",
   "execution_count": 30,
   "id": "34f2025f-91d5-4cfe-a46c-05f5d334f8c0",
   "metadata": {},
   "outputs": [
    {
     "data": {
      "text/plain": [
       "6"
      ]
     },
     "execution_count": 30,
     "metadata": {},
     "output_type": "execute_result"
    }
   ],
   "source": [
    "a[5]"
   ]
  },
  {
   "cell_type": "code",
   "execution_count": 31,
   "id": "86538ed7-d5db-421c-b70a-081c43e4bf73",
   "metadata": {},
   "outputs": [],
   "source": [
    "b= [\"Ajay\",\"Sati\", \"CampusX\",\"Nitish Sir.\"]"
   ]
  },
  {
   "cell_type": "code",
   "execution_count": 32,
   "id": "e9eb01f1-c226-477c-8c7c-c184d54cf703",
   "metadata": {},
   "outputs": [
    {
     "data": {
      "text/plain": [
       "['Ajay', 'Sati', 'CampusX', 'Nitish Sir.']"
      ]
     },
     "execution_count": 32,
     "metadata": {},
     "output_type": "execute_result"
    }
   ],
   "source": [
    "b"
   ]
  },
  {
   "cell_type": "code",
   "execution_count": 33,
   "id": "c0bdf724-6599-4146-a086-922e78858762",
   "metadata": {},
   "outputs": [
    {
     "data": {
      "text/plain": [
       "'CampusX'"
      ]
     },
     "execution_count": 33,
     "metadata": {},
     "output_type": "execute_result"
    }
   ],
   "source": [
    "b[2]"
   ]
  },
  {
   "cell_type": "code",
   "execution_count": 35,
   "id": "51091f78-29f0-4d9a-8845-2822c8be0ac1",
   "metadata": {},
   "outputs": [
    {
     "data": {
      "text/plain": [
       "6"
      ]
     },
     "execution_count": 35,
     "metadata": {},
     "output_type": "execute_result"
    }
   ],
   "source": [
    "a[5]"
   ]
  },
  {
   "cell_type": "code",
   "execution_count": 37,
   "id": "2bc71c9d-3cec-4907-92c8-6914c0c93f1f",
   "metadata": {},
   "outputs": [
    {
     "data": {
      "text/plain": [
       "[1, 2, 3, 4, 5, 6, 7, 8, 9, 10]"
      ]
     },
     "execution_count": 37,
     "metadata": {},
     "output_type": "execute_result"
    }
   ],
   "source": [
    "a"
   ]
  },
  {
   "cell_type": "code",
   "execution_count": 38,
   "id": "e269d895-c256-47e1-9a6e-18c9df4c7b18",
   "metadata": {},
   "outputs": [
    {
     "data": {
      "text/plain": [
       "3"
      ]
     },
     "execution_count": 38,
     "metadata": {},
     "output_type": "execute_result"
    }
   ],
   "source": [
    "a[2]"
   ]
  },
  {
   "cell_type": "code",
   "execution_count": 39,
   "id": "d9a68cd9-91e3-499d-8bf8-0c9a6c0e5a68",
   "metadata": {},
   "outputs": [
    {
     "data": {
      "text/plain": [
       "[3, 4, 5]"
      ]
     },
     "execution_count": 39,
     "metadata": {},
     "output_type": "execute_result"
    }
   ],
   "source": [
    "a[2:5]   # display values from 2nd index to 5-1 = 4th index."
   ]
  },
  {
   "cell_type": "code",
   "execution_count": 41,
   "id": "1f4d8ffb-b7f8-4ef3-a006-baf34916b06a",
   "metadata": {},
   "outputs": [
    {
     "data": {
      "text/plain": [
       "[3, 4, 5, 6, 7, 8, 9, 10]"
      ]
     },
     "execution_count": 41,
     "metadata": {},
     "output_type": "execute_result"
    }
   ],
   "source": [
    "a[2:]   # display value from 2nd index to last "
   ]
  },
  {
   "cell_type": "code",
   "execution_count": 42,
   "id": "93119ef4-05bd-428b-b42f-5fc3094d079e",
   "metadata": {},
   "outputs": [
    {
     "data": {
      "text/plain": [
       "[1, 2, 3, 4, 5, 6, 7]"
      ]
     },
     "execution_count": 42,
     "metadata": {},
     "output_type": "execute_result"
    }
   ],
   "source": [
    "a[:7]   #display value from starting to 7-1 = 6th index"
   ]
  },
  {
   "cell_type": "code",
   "execution_count": 44,
   "id": "39ccb0d8-64d1-48b3-ba81-a0d33d79bbaa",
   "metadata": {},
   "outputs": [
    {
     "name": "stdout",
     "output_type": "stream",
     "text": [
      "[1, 2, 3, 4, 5, 6, 7, 8, 9, 10]\n",
      "2040534618496\n"
     ]
    }
   ],
   "source": [
    "print(a)\n",
    "print(id(a))"
   ]
  },
  {
   "cell_type": "code",
   "execution_count": 45,
   "id": "636fc57f-8bff-421f-b34b-314c81ae0ab8",
   "metadata": {},
   "outputs": [],
   "source": [
    "a[3]= \"Natraj\""
   ]
  },
  {
   "cell_type": "code",
   "execution_count": 46,
   "id": "1fe5d7a1-0b6e-419c-a096-1bd2165b1c58",
   "metadata": {},
   "outputs": [
    {
     "name": "stdout",
     "output_type": "stream",
     "text": [
      "[1, 2, 3, 'Natraj', 5, 6, 7, 8, 9, 10]\n",
      "2040534618496\n"
     ]
    }
   ],
   "source": [
    "print(a)\n",
    "print(id(a))"
   ]
  },
  {
   "cell_type": "code",
   "execution_count": 47,
   "id": "241c0883-a651-49f6-83cb-269fdd92ea9c",
   "metadata": {},
   "outputs": [],
   "source": [
    "a[6]= \"Apsara\""
   ]
  },
  {
   "cell_type": "code",
   "execution_count": 48,
   "id": "9dd41d5c-31af-40bf-abeb-0cc91d319331",
   "metadata": {},
   "outputs": [
    {
     "name": "stdout",
     "output_type": "stream",
     "text": [
      "[1, 2, 3, 'Natraj', 5, 6, 'Apsara', 8, 9, 10]\n",
      "2040534618496\n"
     ]
    }
   ],
   "source": [
    "print(a)\n",
    "print(id(a))"
   ]
  },
  {
   "cell_type": "code",
   "execution_count": 146,
   "id": "e03e53ce-7415-411a-a78b-046eb8c6d8fc",
   "metadata": {},
   "outputs": [],
   "source": [
    "a = [1 ,2 , 3 , 4 , 5 , 6 ,7,8,9,10]"
   ]
  },
  {
   "cell_type": "code",
   "execution_count": 147,
   "id": "347464f3-9399-4e52-9dcb-793e9c2f554f",
   "metadata": {},
   "outputs": [
    {
     "ename": "TypeError",
     "evalue": "list indices must be integers or slices, not tuple",
     "output_type": "error",
     "traceback": [
      "\u001b[1;31m---------------------------------------------------------------------------\u001b[0m",
      "\u001b[1;31mTypeError\u001b[0m                                 Traceback (most recent call last)",
      "Cell \u001b[1;32mIn[147], line 1\u001b[0m\n\u001b[1;32m----> 1\u001b[0m a[\u001b[38;5;241m1\u001b[39m:\u001b[38;5;241m5\u001b[39m,\u001b[38;5;241m5\u001b[39m]\n",
      "\u001b[1;31mTypeError\u001b[0m: list indices must be integers or slices, not tuple"
     ]
    }
   ],
   "source": [
    "a[1:5,5]"
   ]
  },
  {
   "cell_type": "code",
   "execution_count": 56,
   "id": "608b35d7-b707-4a87-9edd-d11f85a15a5c",
   "metadata": {},
   "outputs": [
    {
     "name": "stdout",
     "output_type": "stream",
     "text": [
      "[1, 2, 3, 4, 5, 6, 7, 8, 9, 10]\n",
      "2040540055616\n"
     ]
    }
   ],
   "source": [
    "print(a)\n",
    "print(id(a))"
   ]
  },
  {
   "cell_type": "code",
   "execution_count": 57,
   "id": "726ace27-d3f0-4254-a4cd-c1134302935f",
   "metadata": {},
   "outputs": [],
   "source": [
    "a.insert(3, \"Natraj\")"
   ]
  },
  {
   "cell_type": "code",
   "execution_count": 58,
   "id": "8907ea7e-f541-4a41-b463-a296bb70fb62",
   "metadata": {},
   "outputs": [
    {
     "name": "stdout",
     "output_type": "stream",
     "text": [
      "[1, 2, 3, 'Natraj', 4, 5, 6, 7, 8, 9, 10]\n",
      "2040540055616\n"
     ]
    }
   ],
   "source": [
    "print(a)\n",
    "print(id(a))"
   ]
  },
  {
   "cell_type": "code",
   "execution_count": 59,
   "id": "8272f739-1749-4ea8-81a9-8a6210bb0299",
   "metadata": {},
   "outputs": [],
   "source": [
    "a.append(\"Stop\")"
   ]
  },
  {
   "cell_type": "code",
   "execution_count": 60,
   "id": "e2e54c0e-4e85-4232-acec-1171b5244d63",
   "metadata": {},
   "outputs": [
    {
     "name": "stdout",
     "output_type": "stream",
     "text": [
      "[1, 2, 3, 'Natraj', 4, 5, 6, 7, 8, 9, 10, 'Stop']\n",
      "2040540055616\n"
     ]
    }
   ],
   "source": [
    "print(a)\n",
    "print(id(a))"
   ]
  },
  {
   "cell_type": "code",
   "execution_count": 61,
   "id": "22047ece-acf1-4a04-af5e-9c6a352edf54",
   "metadata": {},
   "outputs": [],
   "source": [
    "a[0]=\"Start\""
   ]
  },
  {
   "cell_type": "code",
   "execution_count": 62,
   "id": "d8eeee69-cd75-4204-a30a-9e2b4b15ccfc",
   "metadata": {},
   "outputs": [
    {
     "name": "stdout",
     "output_type": "stream",
     "text": [
      "['Start', 2, 3, 'Natraj', 4, 5, 6, 7, 8, 9, 10, 'Stop']\n",
      "2040540055616\n"
     ]
    }
   ],
   "source": [
    "print(a)\n",
    "print(id(a))"
   ]
  },
  {
   "cell_type": "code",
   "execution_count": 63,
   "id": "0d9d1108-8c28-448a-b7ed-cbb4519283ae",
   "metadata": {},
   "outputs": [
    {
     "data": {
      "text/plain": [
       "['Start', 2, 3, 'Natraj', 4, 5, 6, 7, 8, 9, 10, 'Stop']"
      ]
     },
     "execution_count": 63,
     "metadata": {},
     "output_type": "execute_result"
    }
   ],
   "source": [
    "a"
   ]
  },
  {
   "cell_type": "code",
   "execution_count": 64,
   "id": "ce286941-747d-4712-8868-3f80c4b5fbee",
   "metadata": {},
   "outputs": [],
   "source": []
  },
  {
   "cell_type": "code",
   "execution_count": 66,
   "id": "8e1e589a-0a9d-45c5-8acd-d17aac2461d7",
   "metadata": {},
   "outputs": [
    {
     "data": {
      "text/plain": [
       "['Start', 2, 3, 'Natraj', 4, 5, 7, 8, 9, 10, 'Stop']"
      ]
     },
     "execution_count": 66,
     "metadata": {},
     "output_type": "execute_result"
    }
   ],
   "source": [
    "a"
   ]
  },
  {
   "cell_type": "code",
   "execution_count": 67,
   "id": "47a9118f-6737-467f-95d1-337f4fdb874f",
   "metadata": {},
   "outputs": [],
   "source": [
    "a.remove(\"Start\")  #remove the mentioned element."
   ]
  },
  {
   "cell_type": "code",
   "execution_count": 68,
   "id": "739b6aed-b8ea-4dfd-9a83-71b3c000a455",
   "metadata": {},
   "outputs": [
    {
     "data": {
      "text/plain": [
       "[2, 3, 'Natraj', 4, 5, 7, 8, 9, 10, 'Stop']"
      ]
     },
     "execution_count": 68,
     "metadata": {},
     "output_type": "execute_result"
    }
   ],
   "source": [
    "a"
   ]
  },
  {
   "cell_type": "code",
   "execution_count": 71,
   "id": "30d8e3c6-af55-42a0-9151-d10e91fda1e0",
   "metadata": {},
   "outputs": [
    {
     "data": {
      "text/plain": [
       "9"
      ]
     },
     "execution_count": 71,
     "metadata": {},
     "output_type": "execute_result"
    }
   ],
   "source": [
    "a.pop(6)   #remove value of that particular index"
   ]
  },
  {
   "cell_type": "code",
   "execution_count": 70,
   "id": "f0797b7e-bcf3-46bb-b382-23daa50bbdec",
   "metadata": {},
   "outputs": [
    {
     "data": {
      "text/plain": [
       "[2, 3, 'Natraj', 4, 5, 7, 9, 10, 'Stop']"
      ]
     },
     "execution_count": 70,
     "metadata": {},
     "output_type": "execute_result"
    }
   ],
   "source": [
    "a"
   ]
  },
  {
   "cell_type": "code",
   "execution_count": 72,
   "id": "bd2733e1-b2a5-4378-932c-7549445ed3bb",
   "metadata": {},
   "outputs": [
    {
     "name": "stdout",
     "output_type": "stream",
     "text": [
      "[2, 3, 'Natraj', 4, 5, 7, 10, 'Stop']\n",
      "2040540055616\n"
     ]
    }
   ],
   "source": [
    "print(a)\n",
    "print(id(a))"
   ]
  },
  {
   "cell_type": "code",
   "execution_count": 73,
   "id": "95f5afd5-98f4-4747-8afe-1f900858f96a",
   "metadata": {},
   "outputs": [],
   "source": [
    "a= [23,34,21,12,78,98,45]"
   ]
  },
  {
   "cell_type": "code",
   "execution_count": 74,
   "id": "b3a2a639-535c-47f1-bacf-58b4003d56ae",
   "metadata": {},
   "outputs": [],
   "source": [
    "a.sort()  # arrange list in ascending order."
   ]
  },
  {
   "cell_type": "code",
   "execution_count": 75,
   "id": "476473fb-c95e-4533-9c1e-2c60587ea7d8",
   "metadata": {},
   "outputs": [
    {
     "data": {
      "text/plain": [
       "[12, 21, 23, 34, 45, 78, 98]"
      ]
     },
     "execution_count": 75,
     "metadata": {},
     "output_type": "execute_result"
    }
   ],
   "source": [
    "a"
   ]
  },
  {
   "cell_type": "code",
   "execution_count": 76,
   "id": "55bf9740-7f9d-4b16-b7b3-bfbbeec16d44",
   "metadata": {},
   "outputs": [],
   "source": [
    "a= [23,34,21,12,78,98,45]"
   ]
  },
  {
   "cell_type": "code",
   "execution_count": 77,
   "id": "f6f65aea-2db8-4eb3-8565-a9faaf7f42da",
   "metadata": {},
   "outputs": [],
   "source": [
    "a.sort(reverse =True)  #Descending arrangement."
   ]
  },
  {
   "cell_type": "code",
   "execution_count": 78,
   "id": "0882759b-0b39-4971-a50f-28d62a7eb29e",
   "metadata": {},
   "outputs": [
    {
     "data": {
      "text/plain": [
       "[98, 78, 45, 34, 23, 21, 12]"
      ]
     },
     "execution_count": 78,
     "metadata": {},
     "output_type": "execute_result"
    }
   ],
   "source": [
    "a"
   ]
  },
  {
   "cell_type": "code",
   "execution_count": 86,
   "id": "a0f59884-6c5b-4b36-80af-1bbaedba6c28",
   "metadata": {},
   "outputs": [],
   "source": [
    "b= [\"Ajay\",\"Sati\", \"CampusX\",\"Nitish Sir.\", \"Ajay\"]"
   ]
  },
  {
   "cell_type": "code",
   "execution_count": 87,
   "id": "5f825ca8-9bc9-4075-bfb6-b5f10d2f9672",
   "metadata": {},
   "outputs": [],
   "source": [
    "b.remove(\"Ajay\")"
   ]
  },
  {
   "cell_type": "code",
   "execution_count": 88,
   "id": "13978792-51ba-4711-acd7-7fec0393174e",
   "metadata": {},
   "outputs": [
    {
     "data": {
      "text/plain": [
       "['Sati', 'CampusX', 'Nitish Sir.', 'Ajay']"
      ]
     },
     "execution_count": 88,
     "metadata": {},
     "output_type": "execute_result"
    }
   ],
   "source": [
    "b"
   ]
  },
  {
   "cell_type": "code",
   "execution_count": 80,
   "id": "b68e1c65-7d6e-4028-96de-9807ef9b0591",
   "metadata": {},
   "outputs": [],
   "source": [
    "b.reverse()"
   ]
  },
  {
   "cell_type": "code",
   "execution_count": 81,
   "id": "3e17ac6e-be1f-42bb-ad05-fd776a695982",
   "metadata": {},
   "outputs": [
    {
     "data": {
      "text/plain": [
       "['Nitish Sir.', 'CampusX', 'Sati', 'Ajay']"
      ]
     },
     "execution_count": 81,
     "metadata": {},
     "output_type": "execute_result"
    }
   ],
   "source": [
    "b"
   ]
  },
  {
   "cell_type": "code",
   "execution_count": 82,
   "id": "5eb64fe1-14fe-45ee-b5e3-beb3f619949e",
   "metadata": {},
   "outputs": [],
   "source": [
    "b.sort()"
   ]
  },
  {
   "cell_type": "code",
   "execution_count": 83,
   "id": "d3ae5996-f9da-4ec0-a200-4ae06c44e07d",
   "metadata": {},
   "outputs": [
    {
     "data": {
      "text/plain": [
       "['Ajay', 'CampusX', 'Nitish Sir.', 'Sati']"
      ]
     },
     "execution_count": 83,
     "metadata": {},
     "output_type": "execute_result"
    }
   ],
   "source": [
    "b"
   ]
  },
  {
   "cell_type": "code",
   "execution_count": 84,
   "id": "920e2c47-dfd5-48cb-83e9-e51d5911d427",
   "metadata": {},
   "outputs": [],
   "source": [
    "b.sort(reverse=True)"
   ]
  },
  {
   "cell_type": "code",
   "execution_count": 85,
   "id": "4ba014ce-2069-4944-9026-1bedf59daefc",
   "metadata": {},
   "outputs": [
    {
     "data": {
      "text/plain": [
       "['Sati', 'Nitish Sir.', 'CampusX', 'Ajay']"
      ]
     },
     "execution_count": 85,
     "metadata": {},
     "output_type": "execute_result"
    }
   ],
   "source": [
    "b"
   ]
  },
  {
   "cell_type": "code",
   "execution_count": 90,
   "id": "c83e61b5-bc3e-41c9-884d-4fc5f9b19e79",
   "metadata": {},
   "outputs": [],
   "source": [
    "b.sort()"
   ]
  },
  {
   "cell_type": "code",
   "execution_count": 95,
   "id": "b611fe07-7bf2-4139-8e09-4734e397172f",
   "metadata": {},
   "outputs": [],
   "source": [
    "del a"
   ]
  },
  {
   "cell_type": "code",
   "execution_count": 96,
   "id": "861a8947-2651-487d-902e-c80d72d47e97",
   "metadata": {},
   "outputs": [
    {
     "ename": "NameError",
     "evalue": "name 'a' is not defined",
     "output_type": "error",
     "traceback": [
      "\u001b[1;31m---------------------------------------------------------------------------\u001b[0m",
      "\u001b[1;31mNameError\u001b[0m                                 Traceback (most recent call last)",
      "Cell \u001b[1;32mIn[96], line 1\u001b[0m\n\u001b[1;32m----> 1\u001b[0m a\n",
      "\u001b[1;31mNameError\u001b[0m: name 'a' is not defined"
     ]
    }
   ],
   "source": [
    "a"
   ]
  },
  {
   "cell_type": "code",
   "execution_count": 137,
   "id": "a7236360-afd6-4893-a1b6-f0c55d4b6365",
   "metadata": {},
   "outputs": [],
   "source": [
    "a=[1,2,3,4,5,6,7,8,9,10]"
   ]
  },
  {
   "cell_type": "code",
   "execution_count": 138,
   "id": "b34f89d5-d1a8-486d-bbe7-dbab8fde96a8",
   "metadata": {},
   "outputs": [
    {
     "data": {
      "text/plain": [
       "[1, 2, 3, 4, 5, 6, 7, 8, 9, 10]"
      ]
     },
     "execution_count": 138,
     "metadata": {},
     "output_type": "execute_result"
    }
   ],
   "source": [
    "a"
   ]
  },
  {
   "cell_type": "code",
   "execution_count": 139,
   "id": "d7ef7a22-0eec-4d2f-ba82-51ee5fb04a47",
   "metadata": {},
   "outputs": [
    {
     "data": {
      "text/plain": [
       "2"
      ]
     },
     "execution_count": 139,
     "metadata": {},
     "output_type": "execute_result"
    }
   ],
   "source": [
    "a[1]"
   ]
  },
  {
   "cell_type": "code",
   "execution_count": 145,
   "id": "aa8ca6f5-3af5-4e50-988d-09133c147581",
   "metadata": {},
   "outputs": [
    {
     "data": {
      "text/plain": [
       "1"
      ]
     },
     "execution_count": 145,
     "metadata": {},
     "output_type": "execute_result"
    }
   ],
   "source": [
    "a[0]"
   ]
  },
  {
   "cell_type": "code",
   "execution_count": null,
   "id": "6207dd84-101c-45fc-8b1a-7aaf8b0179d8",
   "metadata": {},
   "outputs": [],
   "source": []
  },
  {
   "cell_type": "code",
   "execution_count": 91,
   "id": "6a000060-31e2-47b4-9547-4c0d2327e107",
   "metadata": {},
   "outputs": [],
   "source": [
    "#DICTIONARY "
   ]
  },
  {
   "cell_type": "code",
   "execution_count": 121,
   "id": "84d0fca1-fcf0-4471-998b-25019ad66f94",
   "metadata": {},
   "outputs": [],
   "source": [
    "var = { \"roll\" : 1,\n",
    "        \"Name\": \"Ajay Sati\",\n",
    "        \"City\" : \"Chandigarh.\"}"
   ]
  },
  {
   "cell_type": "code",
   "execution_count": 122,
   "id": "6ff2ef58-0711-4189-9061-c20035ae4333",
   "metadata": {},
   "outputs": [
    {
     "name": "stdout",
     "output_type": "stream",
     "text": [
      "2040549258112\n"
     ]
    }
   ],
   "source": [
    "print(id(var))"
   ]
  },
  {
   "cell_type": "code",
   "execution_count": 98,
   "id": "4f9cdb42-8db6-4340-a352-1992eac84487",
   "metadata": {},
   "outputs": [
    {
     "data": {
      "text/plain": [
       "{'roll': 1, 'Name': 'Ajay Sati', 'City': 'Chandigarh.'}"
      ]
     },
     "execution_count": 98,
     "metadata": {},
     "output_type": "execute_result"
    }
   ],
   "source": [
    "var"
   ]
  },
  {
   "cell_type": "code",
   "execution_count": 99,
   "id": "18bb2183-17e0-4395-b669-cf9b3728031b",
   "metadata": {},
   "outputs": [],
   "source": [
    "var2 = {\"roll\" :[1,2,3,4,5,6],\n",
    "        \"Name\" :[\"Ajay Sati\",\"Rajpal Singh\",\"Aritra Dinda\",\"Shweta Kumari\",\"Prerna\",\"Mehreen\"],\n",
    "        \"city\": [\"chd\", \"kolkata\",\"Mumbai\",\"Patna\", \"Mussoorie\",\"Mohali\"]}"
   ]
  },
  {
   "cell_type": "code",
   "execution_count": 100,
   "id": "cad86c17-c013-40e7-828b-1ddf5d2df047",
   "metadata": {},
   "outputs": [
    {
     "data": {
      "text/plain": [
       "{'roll': [1, 2, 3, 4, 5, 6],\n",
       " 'Name': ['Ajay Sati',\n",
       "  'Rajpal Singh',\n",
       "  'Aritra Dinda',\n",
       "  'Shweta Kumari',\n",
       "  'Prerna',\n",
       "  'Mehreen'],\n",
       " 'city': ['chd', 'kolkata', 'Mumbai', 'Patna', 'Mussoorie', 'Mohali']}"
      ]
     },
     "execution_count": 100,
     "metadata": {},
     "output_type": "execute_result"
    }
   ],
   "source": [
    "var2"
   ]
  },
  {
   "cell_type": "code",
   "execution_count": 134,
   "id": "6074e939-18bd-4908-a44d-24ff0230f179",
   "metadata": {},
   "outputs": [],
   "source": [
    "var3 = { \"roll\": [1,2,3,4,5],\n",
    "         \"roll\": [\"a\",\"s\",\"d\"],\n",
    "          \"Roll\":[2]}"
   ]
  },
  {
   "cell_type": "code",
   "execution_count": 106,
   "id": "79079ac6-2dec-4cd6-8122-de1eb1fc3e7f",
   "metadata": {},
   "outputs": [
    {
     "data": {
      "text/plain": [
       "{'roll': ['a', 's', 'd'], 'Roll': [2]}"
      ]
     },
     "execution_count": 106,
     "metadata": {},
     "output_type": "execute_result"
    }
   ],
   "source": [
    "var3"
   ]
  },
  {
   "cell_type": "code",
   "execution_count": 112,
   "id": "959f95f9-d1a8-43c6-a800-f31fe840fc51",
   "metadata": {},
   "outputs": [],
   "source": [
    "var2[\"roll\"].append(\"Yes\")"
   ]
  },
  {
   "cell_type": "code",
   "execution_count": 115,
   "id": "3919561e-99d2-4bb6-b246-30747e1fc5f8",
   "metadata": {},
   "outputs": [
    {
     "data": {
      "text/plain": [
       "'Mehreen'"
      ]
     },
     "execution_count": 115,
     "metadata": {},
     "output_type": "execute_result"
    }
   ],
   "source": [
    "var2[\"Name\"].pop()"
   ]
  },
  {
   "cell_type": "code",
   "execution_count": 116,
   "id": "9df68e02-ab9e-4c87-ba36-d42ce15d6b07",
   "metadata": {},
   "outputs": [
    {
     "data": {
      "text/plain": [
       "{'roll': [1, 2, 3, 4, 5, 6, 'Yes'],\n",
       " 'Name': ['Ajay Sati',\n",
       "  'Rajpal Singh',\n",
       "  'Aritra Dinda',\n",
       "  'Shweta Kumari',\n",
       "  'Prerna'],\n",
       " 'city': ['chd', 'kolkata', 'Mumbai', 'Patna', 'Mussoorie', 'Mohali']}"
      ]
     },
     "execution_count": 116,
     "metadata": {},
     "output_type": "execute_result"
    }
   ],
   "source": [
    "var2"
   ]
  },
  {
   "cell_type": "code",
   "execution_count": 123,
   "id": "08953fe4-4b20-4b56-ae97-5ee93a858391",
   "metadata": {},
   "outputs": [],
   "source": [
    "var[\"roll\"]= [1,2,3,4,5]"
   ]
  },
  {
   "cell_type": "code",
   "execution_count": 124,
   "id": "571a254e-d2a6-4e3a-8421-66b2a0fc4af9",
   "metadata": {},
   "outputs": [
    {
     "data": {
      "text/plain": [
       "{'roll': [1, 2, 3, 4, 5], 'Name': 'Ajay Sati', 'City': 'Chandigarh.'}"
      ]
     },
     "execution_count": 124,
     "metadata": {},
     "output_type": "execute_result"
    }
   ],
   "source": [
    "var"
   ]
  },
  {
   "cell_type": "code",
   "execution_count": 125,
   "id": "080538f9-4c25-45e3-9f9b-b69a50f70b39",
   "metadata": {},
   "outputs": [
    {
     "name": "stdout",
     "output_type": "stream",
     "text": [
      "2040549258112\n"
     ]
    }
   ],
   "source": [
    "print(id(var))"
   ]
  },
  {
   "cell_type": "code",
   "execution_count": 126,
   "id": "bfc5eea3-a5c4-45e4-99ee-7b41025164e1",
   "metadata": {},
   "outputs": [],
   "source": [
    "var.update({\"Admission.\":[2012,2016,2018,2023]})"
   ]
  },
  {
   "cell_type": "code",
   "execution_count": 127,
   "id": "8e521471-e64e-4b0c-846b-e1f9bb4d21c2",
   "metadata": {},
   "outputs": [
    {
     "data": {
      "text/plain": [
       "{'roll': [1, 2, 3, 4, 5],\n",
       " 'Name': 'Ajay Sati',\n",
       " 'City': 'Chandigarh.',\n",
       " 'Admission.': [2012, 2016, 2018, 2023]}"
      ]
     },
     "execution_count": 127,
     "metadata": {},
     "output_type": "execute_result"
    }
   ],
   "source": [
    "var"
   ]
  },
  {
   "cell_type": "code",
   "execution_count": 128,
   "id": "4a54422a-2f93-413d-b30e-0d8464ffc186",
   "metadata": {},
   "outputs": [
    {
     "name": "stdout",
     "output_type": "stream",
     "text": [
      "2040549258112\n"
     ]
    }
   ],
   "source": [
    "print(id(var))"
   ]
  },
  {
   "cell_type": "code",
   "execution_count": 130,
   "id": "767a4795-7986-4a16-91df-4a14d12c7a07",
   "metadata": {},
   "outputs": [],
   "source": [
    "del var[\"Admission.\"]"
   ]
  },
  {
   "cell_type": "code",
   "execution_count": 131,
   "id": "db3a2449-8e6d-42c9-83a1-750a012a3ce7",
   "metadata": {},
   "outputs": [
    {
     "data": {
      "text/plain": [
       "{'roll': [1, 2, 3, 4, 5], 'Name': 'Ajay Sati', 'City': 'Chandigarh.'}"
      ]
     },
     "execution_count": 131,
     "metadata": {},
     "output_type": "execute_result"
    }
   ],
   "source": [
    "var"
   ]
  },
  {
   "cell_type": "code",
   "execution_count": 132,
   "id": "57f154a3-f404-4099-8f47-3a46700166d6",
   "metadata": {},
   "outputs": [],
   "source": [
    "del var"
   ]
  },
  {
   "cell_type": "code",
   "execution_count": 133,
   "id": "41f7d473-798a-4ef9-91eb-59ccac7bf1a6",
   "metadata": {},
   "outputs": [
    {
     "ename": "NameError",
     "evalue": "name 'var' is not defined",
     "output_type": "error",
     "traceback": [
      "\u001b[1;31m---------------------------------------------------------------------------\u001b[0m",
      "\u001b[1;31mNameError\u001b[0m                                 Traceback (most recent call last)",
      "Cell \u001b[1;32mIn[133], line 1\u001b[0m\n\u001b[1;32m----> 1\u001b[0m var\n",
      "\u001b[1;31mNameError\u001b[0m: name 'var' is not defined"
     ]
    }
   ],
   "source": [
    "var"
   ]
  },
  {
   "cell_type": "code",
   "execution_count": 136,
   "id": "2e2de1ab-8779-47f9-bbc4-8f50c338b48d",
   "metadata": {},
   "outputs": [
    {
     "data": {
      "text/plain": [
       "['a', 's', 'd']"
      ]
     },
     "execution_count": 136,
     "metadata": {},
     "output_type": "execute_result"
    }
   ],
   "source": [
    "var3[\"roll\"]"
   ]
  },
  {
   "cell_type": "code",
   "execution_count": null,
   "id": "1e64b52a-09bf-4200-8e8c-429f4cc1008b",
   "metadata": {},
   "outputs": [],
   "source": []
  }
 ],
 "metadata": {
  "kernelspec": {
   "display_name": "Python 3 (ipykernel)",
   "language": "python",
   "name": "python3"
  },
  "language_info": {
   "codemirror_mode": {
    "name": "ipython",
    "version": 3
   },
   "file_extension": ".py",
   "mimetype": "text/x-python",
   "name": "python",
   "nbconvert_exporter": "python",
   "pygments_lexer": "ipython3",
   "version": "3.12.7"
  }
 },
 "nbformat": 4,
 "nbformat_minor": 5
}
